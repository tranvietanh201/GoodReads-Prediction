{
 "cells": [
  {
   "cell_type": "markdown",
   "metadata": {},
   "source": [
    "<h1> Assignment 2: Data Modelling\n",
    " "
   ]
  },
  {
   "cell_type": "markdown",
   "metadata": {},
   "source": [
    "<div> This is the data exploration and data prediction notebook of over 50000 books from Goodreads, evaluated by the average rating score </div>"
   ]
  },
  {
   "cell_type": "markdown",
   "metadata": {},
   "source": [
    "Submission of Tran Viet Anh (s3795683)"
   ]
  },
  {
   "cell_type": "markdown",
   "metadata": {},
   "source": [
    "<h3> 1. Data preparation: "
   ]
  },
  {
   "cell_type": "code",
   "execution_count": 1,
   "metadata": {},
   "outputs": [],
   "source": [
    "# Libs import\n",
    "import pandas as pd\n",
    "import seaborn as sns\n",
    "import numpy as np\n",
    "import matplotlib.pyplot as plt\n",
    "from sklearn import preprocessing\n",
    "from sklearn.model_selection import train_test_split\n",
    "from sklearn.linear_model import LinearRegression\n",
    "from sklearn import metrics\n",
    "from sklearn.metrics import r2_score\n",
    "np.random.seed(0)"
   ]
  },
  {
   "cell_type": "code",
   "execution_count": 2,
   "metadata": {},
   "outputs": [],
   "source": [
    "# Dataset import \n",
    "df1 = pd.read_csv('X_test.csv', sep=',', encoding = 'utf-8')\n",
    "df2 = pd.read_csv('X_train.csv',sep=',', encoding = 'utf-8')\n",
    "y_train = pd.read_csv('y_train.csv', sep = ',', encoding = 'utf-8')\n",
    "y_test = pd.read_csv('sampleSubmission.csv', sep = ',' ,encoding = 'utf-8')"
   ]
  },
  {
   "cell_type": "markdown",
   "metadata": {},
   "source": [
    "<h4> a) Test set cleaning: "
   ]
  },
  {
   "cell_type": "code",
   "execution_count": 3,
   "metadata": {},
   "outputs": [
    {
     "data": {
      "text/html": [
       "<div>\n",
       "<style scoped>\n",
       "    .dataframe tbody tr th:only-of-type {\n",
       "        vertical-align: middle;\n",
       "    }\n",
       "\n",
       "    .dataframe tbody tr th {\n",
       "        vertical-align: top;\n",
       "    }\n",
       "\n",
       "    .dataframe thead th {\n",
       "        text-align: right;\n",
       "    }\n",
       "</style>\n",
       "<table border=\"1\" class=\"dataframe\">\n",
       "  <thead>\n",
       "    <tr style=\"text-align: right;\">\n",
       "      <th></th>\n",
       "      <th>id</th>\n",
       "      <th>title</th>\n",
       "      <th>link</th>\n",
       "      <th>series</th>\n",
       "      <th>cover_link</th>\n",
       "      <th>author</th>\n",
       "      <th>author_link</th>\n",
       "      <th>rating_count</th>\n",
       "      <th>review_count</th>\n",
       "      <th>number_of_pages</th>\n",
       "      <th>...</th>\n",
       "      <th>isbn13</th>\n",
       "      <th>asin</th>\n",
       "      <th>settings</th>\n",
       "      <th>characters</th>\n",
       "      <th>awards</th>\n",
       "      <th>amazon_redirect_link</th>\n",
       "      <th>worldcat_redirect_link</th>\n",
       "      <th>recommended_books</th>\n",
       "      <th>books_in_series</th>\n",
       "      <th>description</th>\n",
       "    </tr>\n",
       "  </thead>\n",
       "  <tbody>\n",
       "    <tr>\n",
       "      <th>0</th>\n",
       "      <td>6333213</td>\n",
       "      <td>The Way of the Bow</td>\n",
       "      <td>https://www.goodreads.com//book/show/6333213-t...</td>\n",
       "      <td>NaN</td>\n",
       "      <td>https://i.gr-assets.com/images/S/compressed.ph...</td>\n",
       "      <td>Paulo Coelho</td>\n",
       "      <td>https://www.goodreads.com/author/show/566.Paul...</td>\n",
       "      <td>2179</td>\n",
       "      <td>180</td>\n",
       "      <td>76.0</td>\n",
       "      <td>...</td>\n",
       "      <td>9.780557e+12</td>\n",
       "      <td>NaN</td>\n",
       "      <td>NaN</td>\n",
       "      <td>NaN</td>\n",
       "      <td>NaN</td>\n",
       "      <td>https://www.goodreads.com//book_link/follow/17...</td>\n",
       "      <td>https://www.goodreads.com//book_link/follow/8?...</td>\n",
       "      <td>52049749, 52049749, 9242583, 50058600, 1194740...</td>\n",
       "      <td>NaN</td>\n",
       "      <td>âThe Way of the Bowâ relates the story of ...</td>\n",
       "    </tr>\n",
       "    <tr>\n",
       "      <th>1</th>\n",
       "      <td>493553</td>\n",
       "      <td>The Silver Child</td>\n",
       "      <td>https://www.goodreads.com//book/show/493553.Th...</td>\n",
       "      <td>(Silver Sequence #1)</td>\n",
       "      <td>https://i.gr-assets.com/images/S/compressed.ph...</td>\n",
       "      <td>Cliff McNish</td>\n",
       "      <td>https://www.goodreads.com/author/show/27813.Cl...</td>\n",
       "      <td>874</td>\n",
       "      <td>84</td>\n",
       "      <td>192.0</td>\n",
       "      <td>...</td>\n",
       "      <td>9.780823e+12</td>\n",
       "      <td>NaN</td>\n",
       "      <td>NaN</td>\n",
       "      <td>NaN</td>\n",
       "      <td>NaN</td>\n",
       "      <td>https://www.goodreads.com//book_link/follow/17...</td>\n",
       "      <td>https://www.goodreads.com//book_link/follow/8?...</td>\n",
       "      <td>13542616, 13542616, 13274082, 16072988, 58085,...</td>\n",
       "      <td>36448526, 36448541</td>\n",
       "      <td>Six children leave the comfort of their homes....</td>\n",
       "    </tr>\n",
       "    <tr>\n",
       "      <th>2</th>\n",
       "      <td>25574766</td>\n",
       "      <td>Il ladro di nebbia</td>\n",
       "      <td>https://www.goodreads.com//book/show/25574766-...</td>\n",
       "      <td>NaN</td>\n",
       "      <td>https://i.gr-assets.com/images/S/compressed.ph...</td>\n",
       "      <td>Lavinia Petti</td>\n",
       "      <td>https://www.goodreads.com/author/show/14006459...</td>\n",
       "      <td>219</td>\n",
       "      <td>36</td>\n",
       "      <td>412.0</td>\n",
       "      <td>...</td>\n",
       "      <td>NaN</td>\n",
       "      <td>B00WX990QQ</td>\n",
       "      <td>NaN</td>\n",
       "      <td>NaN</td>\n",
       "      <td>NaN</td>\n",
       "      <td>https://www.goodreads.com//book_link/follow/1?...</td>\n",
       "      <td>https://www.goodreads.com//book_link/follow/8?...</td>\n",
       "      <td>9707981, 9707981, 52331839, 25663617, 22027260...</td>\n",
       "      <td>NaN</td>\n",
       "      <td>Antonio M. Fonte Ã¨ uno scrittore di enorme su...</td>\n",
       "    </tr>\n",
       "  </tbody>\n",
       "</table>\n",
       "<p>3 rows × 25 columns</p>\n",
       "</div>"
      ],
      "text/plain": [
       "         id               title  \\\n",
       "0   6333213  The Way of the Bow   \n",
       "1    493553    The Silver Child   \n",
       "2  25574766  Il ladro di nebbia   \n",
       "\n",
       "                                                link                series  \\\n",
       "0  https://www.goodreads.com//book/show/6333213-t...                   NaN   \n",
       "1  https://www.goodreads.com//book/show/493553.Th...  (Silver Sequence #1)   \n",
       "2  https://www.goodreads.com//book/show/25574766-...                   NaN   \n",
       "\n",
       "                                          cover_link         author  \\\n",
       "0  https://i.gr-assets.com/images/S/compressed.ph...   Paulo Coelho   \n",
       "1  https://i.gr-assets.com/images/S/compressed.ph...   Cliff McNish   \n",
       "2  https://i.gr-assets.com/images/S/compressed.ph...  Lavinia Petti   \n",
       "\n",
       "                                         author_link  rating_count  \\\n",
       "0  https://www.goodreads.com/author/show/566.Paul...          2179   \n",
       "1  https://www.goodreads.com/author/show/27813.Cl...           874   \n",
       "2  https://www.goodreads.com/author/show/14006459...           219   \n",
       "\n",
       "   review_count  number_of_pages  ...        isbn13        asin settings  \\\n",
       "0           180             76.0  ...  9.780557e+12         NaN      NaN   \n",
       "1            84            192.0  ...  9.780823e+12         NaN      NaN   \n",
       "2            36            412.0  ...           NaN  B00WX990QQ      NaN   \n",
       "\n",
       "  characters awards                               amazon_redirect_link  \\\n",
       "0        NaN    NaN  https://www.goodreads.com//book_link/follow/17...   \n",
       "1        NaN    NaN  https://www.goodreads.com//book_link/follow/17...   \n",
       "2        NaN    NaN  https://www.goodreads.com//book_link/follow/1?...   \n",
       "\n",
       "                              worldcat_redirect_link  \\\n",
       "0  https://www.goodreads.com//book_link/follow/8?...   \n",
       "1  https://www.goodreads.com//book_link/follow/8?...   \n",
       "2  https://www.goodreads.com//book_link/follow/8?...   \n",
       "\n",
       "                                   recommended_books     books_in_series  \\\n",
       "0  52049749, 52049749, 9242583, 50058600, 1194740...                 NaN   \n",
       "1  13542616, 13542616, 13274082, 16072988, 58085,...  36448526, 36448541   \n",
       "2  9707981, 9707981, 52331839, 25663617, 22027260...                 NaN   \n",
       "\n",
       "                                         description  \n",
       "0  âThe Way of the Bowâ relates the story of ...  \n",
       "1  Six children leave the comfort of their homes....  \n",
       "2  Antonio M. Fonte Ã¨ uno scrittore di enorme su...  \n",
       "\n",
       "[3 rows x 25 columns]"
      ]
     },
     "execution_count": 3,
     "metadata": {},
     "output_type": "execute_result"
    }
   ],
   "source": [
    "df1.head(3)"
   ]
  },
  {
   "cell_type": "code",
   "execution_count": 4,
   "metadata": {},
   "outputs": [],
   "source": [
    "#Deal with Upper/lower case:\n",
    "def convert_str():\n",
    "    for i in df1: # Loop through imported data\n",
    "        if df1[i].dtype == \"object\": # Get all text value\n",
    "            df1[i] = df1[i].str.upper() # Convert string value into upper case letters\n",
    "convert_str()"
   ]
  },
  {
   "cell_type": "code",
   "execution_count": 5,
   "metadata": {},
   "outputs": [],
   "source": [
    "#Deal With Extra White Spaces:\n",
    "def remove_whitespace():\n",
    "    for i in df1: # Loop through the data\n",
    "        if df1[i].dtype == \"object\": # Get object type values\n",
    "            df1[i] = df1[i].str.strip() # Return the string without redundant whitespaces\n",
    "            \n",
    "remove_whitespace()"
   ]
  },
  {
   "cell_type": "markdown",
   "metadata": {},
   "source": [
    "<b> Typos: Fix issue in the genre and votes coloumn"
   ]
  },
  {
   "cell_type": "code",
   "execution_count": 6,
   "metadata": {},
   "outputs": [],
   "source": [
    "df1['genre_and_votes'] = df1['genre_and_votes'].str.replace('American Hi...-','').str.replace(r'[^a-zA-Z0-9, ]', ' ')\n",
    "df1['genre_and_votes'] = df1['genre_and_votes'].str.replace('USER','')"
   ]
  },
  {
   "cell_type": "markdown",
   "metadata": {},
   "source": [
    "<b> Missing values:"
   ]
  },
  {
   "cell_type": "code",
   "execution_count": 7,
   "metadata": {},
   "outputs": [
    {
     "data": {
      "text/plain": [
       "id                           0\n",
       "title                        0\n",
       "link                         0\n",
       "series                    5768\n",
       "cover_link                 121\n",
       "author                       0\n",
       "author_link                  0\n",
       "rating_count                 0\n",
       "review_count                 0\n",
       "number_of_pages            457\n",
       "date_published             172\n",
       "publisher                  743\n",
       "original_title            2653\n",
       "genre_and_votes            602\n",
       "isbn                      2408\n",
       "isbn13                    2593\n",
       "asin                      9358\n",
       "settings                  8211\n",
       "characters                7722\n",
       "awards                    8317\n",
       "amazon_redirect_link         0\n",
       "worldcat_redirect_link     782\n",
       "recommended_books          843\n",
       "books_in_series           6025\n",
       "description                504\n",
       "dtype: int64"
      ]
     },
     "execution_count": 7,
     "metadata": {},
     "output_type": "execute_result"
    }
   ],
   "source": [
    "df1.isna().sum()"
   ]
  },
  {
   "cell_type": "markdown",
   "metadata": {},
   "source": [
    "ISBN, ISBN13, ASIN, worldcat_redirect_link, description, cover_link, date_published, publisher, settings is reference coloumns so fill Unknown"
   ]
  },
  {
   "cell_type": "markdown",
   "metadata": {},
   "source": [
    "Series and awards can be treated as binary (eg: either received award or not) "
   ]
  },
  {
   "cell_type": "code",
   "execution_count": 8,
   "metadata": {},
   "outputs": [],
   "source": [
    "df2['series'] = df2['series'].apply(lambda x: 1 if type(x)==str else 0)\n",
    "df1['series'] = df1['series'].apply(lambda x: 1 if type(x)==str else 0)\n",
    "df2['awards'] = df2['awards'].apply(lambda x: 1 if type(x)==str else 0)\n",
    "df1['awards'] = df1['awards'].apply(lambda x: 1 if type(x)==str else 0)"
   ]
  },
  {
   "cell_type": "code",
   "execution_count": 9,
   "metadata": {},
   "outputs": [],
   "source": [
    "for i in df1: # Loop through the dataframe\n",
    "    if df1[i].dtype == \"object\": # Get object type values\n",
    "        df1[i] = df1[i].fillna('UNKNOWN')"
   ]
  },
  {
   "cell_type": "code",
   "execution_count": 10,
   "metadata": {},
   "outputs": [],
   "source": [
    "df1['isbn13'] = df1['isbn13'].fillna('UNKNOWN')\n",
    "df1['number_of_pages'] = df1['number_of_pages'].fillna(df1['number_of_pages'].mean())"
   ]
  },
  {
   "cell_type": "code",
   "execution_count": 11,
   "metadata": {},
   "outputs": [
    {
     "data": {
      "text/plain": [
       "id                        0\n",
       "title                     0\n",
       "link                      0\n",
       "series                    0\n",
       "cover_link                0\n",
       "author                    0\n",
       "author_link               0\n",
       "rating_count              0\n",
       "review_count              0\n",
       "number_of_pages           0\n",
       "date_published            0\n",
       "publisher                 0\n",
       "original_title            0\n",
       "genre_and_votes           0\n",
       "isbn                      0\n",
       "isbn13                    0\n",
       "asin                      0\n",
       "settings                  0\n",
       "characters                0\n",
       "awards                    0\n",
       "amazon_redirect_link      0\n",
       "worldcat_redirect_link    0\n",
       "recommended_books         0\n",
       "books_in_series           0\n",
       "description               0\n",
       "dtype: int64"
      ]
     },
     "execution_count": 11,
     "metadata": {},
     "output_type": "execute_result"
    }
   ],
   "source": [
    "df1.isna().sum()"
   ]
  },
  {
   "cell_type": "markdown",
   "metadata": {},
   "source": [
    "<b> Train set cleaning: same as test set sequence"
   ]
  },
  {
   "cell_type": "code",
   "execution_count": 12,
   "metadata": {},
   "outputs": [],
   "source": [
    "for i in df2: # Loop through imported data\n",
    "    if df2[i].dtype == \"object\": # Get all text value\n",
    "        df2[i] = df2[i].str.upper() # Convert string value into upper case letters"
   ]
  },
  {
   "cell_type": "code",
   "execution_count": 13,
   "metadata": {},
   "outputs": [],
   "source": [
    "for i in df2: # Loop through the data\n",
    "    if df2[i].dtype == \"object\": # Get object type values\n",
    "        df2[i] = df2[i].str.strip() # Return the string without redundant whitespaces"
   ]
  },
  {
   "cell_type": "code",
   "execution_count": 14,
   "metadata": {},
   "outputs": [],
   "source": [
    "df2['genre_and_votes'] = df2['genre_and_votes'].str.replace('American Hi...-','').str.replace(r'[^a-zA-Z0-9, ]', ' ')\n",
    "df2['genre_and_votes'] = df2['genre_and_votes'].str.replace('1USER','')"
   ]
  },
  {
   "cell_type": "markdown",
   "metadata": {},
   "source": [
    "<b> Missing values:"
   ]
  },
  {
   "cell_type": "code",
   "execution_count": 15,
   "metadata": {},
   "outputs": [
    {
     "data": {
      "text/plain": [
       "id                            0\n",
       "title                         0\n",
       "link                          0\n",
       "series                        0\n",
       "cover_link                  486\n",
       "author                        0\n",
       "author_link                   0\n",
       "rating_count                  0\n",
       "review_count                  0\n",
       "number_of_pages            1873\n",
       "date_published              688\n",
       "publisher                  2893\n",
       "original_title            10296\n",
       "genre_and_votes            2238\n",
       "isbn                       9475\n",
       "isbn13                    10099\n",
       "asin                      37605\n",
       "settings                  32473\n",
       "characters                30782\n",
       "awards                        0\n",
       "amazon_redirect_link          0\n",
       "worldcat_redirect_link     3203\n",
       "recommended_books          3151\n",
       "books_in_series           24096\n",
       "description                2071\n",
       "dtype: int64"
      ]
     },
     "execution_count": 15,
     "metadata": {},
     "output_type": "execute_result"
    }
   ],
   "source": [
    "df2.isna().sum()"
   ]
  },
  {
   "cell_type": "code",
   "execution_count": 16,
   "metadata": {},
   "outputs": [],
   "source": [
    "for i in df2: # Loop through the dataframe\n",
    "    if df2[i].dtype == \"object\": # Get object type values\n",
    "        df2[i] = df2[i].fillna('UNKNOWN')"
   ]
  },
  {
   "cell_type": "code",
   "execution_count": 17,
   "metadata": {},
   "outputs": [],
   "source": [
    "df2['number_of_pages'] = df2['number_of_pages'].fillna(df2['number_of_pages'].mean())"
   ]
  },
  {
   "cell_type": "markdown",
   "metadata": {},
   "source": [
    "<h3> 2. Data Exploration: "
   ]
  },
  {
   "cell_type": "code",
   "execution_count": 18,
   "metadata": {},
   "outputs": [
    {
     "data": {
      "image/png": "[encoded data removed]",
      "text/plain": [
       "<Figure size 864x576 with 2 Axes>"
      ]
     },
     "metadata": {
      "needs_background": "light"
     },
     "output_type": "display_data"
    }
   ],
   "source": [
    "fig_dims = (12, 8)\n",
    "fig, ax = plt.subplots(figsize=fig_dims)\n",
    "sns.heatmap(df2.corr(), ax=ax)\n",
    "plt.show()\n",
    "# This heat map is used to decide which column or pair of column to plot based on correlation between each other"
   ]
  },
  {
   "cell_type": "markdown",
   "metadata": {},
   "source": [
    "<b> Number of pages:"
   ]
  },
  {
   "cell_type": "code",
   "execution_count": 19,
   "metadata": {},
   "outputs": [
    {
     "data": {
      "text/plain": [
       "Text(0.5, 0, 'Number of pages')"
      ]
     },
     "execution_count": 19,
     "metadata": {},
     "output_type": "execute_result"
    },
    {
     "data": {
      "image/png": "[encoded data removed]",
      "text/plain": [
       "<Figure size 1440x576 with 1 Axes>"
      ]
     },
     "metadata": {
      "needs_background": "light"
     },
     "output_type": "display_data"
    }
   ],
   "source": [
    "# check outlier\n",
    "plt.figure(figsize=(20,8))\n",
    "sns.boxplot(x = df2['number_of_pages'])\n",
    "# set title\n",
    "plt.title('Distribution of number of pages (with outlier)', fontsize=20) #set title\n",
    "plt.xlabel(\"Number of pages\")"
   ]
  },
  {
   "cell_type": "code",
   "execution_count": 20,
   "metadata": {},
   "outputs": [
    {
     "data": {
      "text/plain": [
       "Text(0.5, 0, 'Number of Pages')"
      ]
     },
     "execution_count": 20,
     "metadata": {},
     "output_type": "execute_result"
    },
    {
     "data": {
      "image/png": "[encoded data removed]",
      "text/plain": [
       "<Figure size 1440x576 with 1 Axes>"
      ]
     },
     "metadata": {
      "needs_background": "light"
     },
     "output_type": "display_data"
    }
   ],
   "source": [
    "# check outlier\n",
    "plt.figure(figsize=(20,8))\n",
    "sns.boxplot(x = df2['number_of_pages'], showfliers = False)\n",
    "# set title\n",
    "plt.title('Distribution of number of pages (without outlier)', fontsize=20) #set title\n",
    "plt.xlabel(\"Number of Pages\")"
   ]
  },
  {
   "cell_type": "markdown",
   "metadata": {},
   "source": [
    "From the graph with no outliers, it is shown that the large amount of books has over 200 pages and less than 400 pages with most of those sitted in the 310 pages range. However, there are a significant number of book that consisted of up to 3000 pages long and a minority of those which has 6000 to over 10000 pages. This case can be explained in two different approach. On one hand it can be a book for a specific science field which has lots of information which resulted in bulk number. On the other hand, due to the fact that there are only a small number of outlier in the range between 6000-10000, it might be the case that the person or the process of scrapping data is faulty which lead to non-realistic result.\n"
   ]
  },
  {
   "cell_type": "markdown",
   "metadata": {},
   "source": [
    "<b> Awards and rating count"
   ]
  },
  {
   "cell_type": "code",
   "execution_count": 21,
   "metadata": {},
   "outputs": [
    {
     "data": {
      "text/plain": [
       "Text(0, 0.5, 'Review count')"
      ]
     },
     "execution_count": 21,
     "metadata": {},
     "output_type": "execute_result"
    },
    {
     "data": {
      "image/png": "[encoded data removed]",
      "text/plain": [
       "<Figure size 720x720 with 1 Axes>"
      ]
     },
     "metadata": {
      "needs_background": "light"
     },
     "output_type": "display_data"
    }
   ],
   "source": [
    "# drop outlier\n",
    "plotdat = df2.drop(df2.index[df2['rating_count']>4000])\n",
    "#set the plot area\n",
    "figure = plt.figure(figsize=(10,10)) \n",
    "\n",
    "# define axis \n",
    "ax = figure.gca()    \n",
    "plotdat[['review_count','awards']].boxplot(by = 'awards', ax = ax) \n",
    "\n",
    "#set title, x lable and y lable\n",
    "ax.set_title('Relationship between rating count and awards') \n",
    "ax.set_xlabel('Awards')\n",
    "ax.set_ylabel('Review count')"
   ]
  },
  {
   "cell_type": "markdown",
   "metadata": {},
   "source": [
    "Initial assumption: books that received awards has more review count that the one does not.\n",
    "Analysis: The result came close to the initial assumption when book which has awards also has a lot more review count compared to the one without. However, there are a huge number of books which do not receive any awards that has high review count which is expected since the one with awards are usually academic while a large number of reader tend to gravitate towards entertaining books"
   ]
  },
  {
   "cell_type": "markdown",
   "metadata": {},
   "source": [
    "<b> Review count and Rating count"
   ]
  },
  {
   "cell_type": "code",
   "execution_count": 22,
   "metadata": {},
   "outputs": [
    {
     "name": "stderr",
     "output_type": "stream",
     "text": [
      "c:\\users\\viet anh tran\\appdata\\local\\programs\\python\\python38\\lib\\site-packages\\seaborn\\axisgrid.py:1969: UserWarning: The `size` parameter has been renamed to `height`; please update your code.\n",
      "  warnings.warn(msg, UserWarning)\n"
     ]
    },
    {
     "data": {
      "text/plain": [
       "Text(31.454250000000002, 0.5, 'Rating Count')"
      ]
     },
     "execution_count": 22,
     "metadata": {},
     "output_type": "execute_result"
    },
    {
     "data": {
      "text/plain": [
       "<Figure size 1440x576 with 0 Axes>"
      ]
     },
     "metadata": {},
     "output_type": "display_data"
    },
    {
     "data": {
      "image/png": "[encoded data removed]",
      "text/plain": [
       "<Figure size 604.8x864 with 1 Axes>"
      ]
     },
     "metadata": {
      "needs_background": "light"
     },
     "output_type": "display_data"
    }
   ],
   "source": [
    "# visualize the relationship between the features and the response using scatterplots\n",
    "plt.figure(figsize=(20,8))\n",
    "sns.pairplot(df2, x_vars=['review_count'], y_vars='rating_count', size=12, aspect=0.7, kind='reg')\n",
    "plt.xlabel('Review Count')\n",
    "plt.ylabel('Rating Count')"
   ]
  },
  {
   "cell_type": "markdown",
   "metadata": {},
   "source": [
    "Initial hypothesis: the one with high review count is also has high rating count\n",
    "Analysis: the hypothesis is proved by this plot. The result follow the linear path when book with high review count also has more rating count. There are several significance in the result as ploted in the 20000 threshold of review count which has high rating count. This case can be explain as there are a minority of user who only to rating but not review (writting review takes alot more time than click the rating star). \n",
    " "
   ]
  },
  {
   "cell_type": "markdown",
   "metadata": {},
   "source": [
    "<h3> 2. Feature engineering"
   ]
  },
  {
   "cell_type": "code",
   "execution_count": 23,
   "metadata": {},
   "outputs": [],
   "source": [
    "# import necessary libs\n",
    "from sklearn import preprocessing\n",
    "from sklearn.model_selection import train_test_split\n",
    "from sklearn.linear_model import LinearRegression\n",
    "from sklearn import metrics\n",
    "from sklearn.preprocessing import StandardScaler\n",
    "from sklearn.pipeline import make_pipeline\n",
    "from sklearn.model_selection import KFold\n",
    "from sklearn.neighbors import KNeighborsRegressor\n",
    "from sklearn.metrics import mean_squared_error, r2_score\n",
    "from sklearn.model_selection import cross_val_predict\n",
    "from math import sqrt\n",
    "import xgboost"
   ]
  },
  {
   "cell_type": "code",
   "execution_count": 24,
   "metadata": {},
   "outputs": [],
   "source": [
    "label_encoder = preprocessing.LabelEncoder()"
   ]
  },
  {
   "cell_type": "markdown",
   "metadata": {},
   "source": [
    "<b> Normalise the dataset"
   ]
  },
  {
   "cell_type": "code",
   "execution_count": 25,
   "metadata": {},
   "outputs": [
    {
     "data": {
      "text/plain": [
       "rating_count       25.551397\n",
       "review_count       14.975432\n",
       "number_of_pages    10.312070\n",
       "awards              1.471996\n",
       "id                  1.205042\n",
       "series              0.215079\n",
       "dtype: float64"
      ]
     },
     "execution_count": 25,
     "metadata": {},
     "output_type": "execute_result"
    }
   ],
   "source": [
    "from scipy.stats import skew \n",
    "numeric_feats = df2.dtypes[df2.dtypes != \"object\"].index\n",
    "\n",
    "skewed_feats = df2[numeric_feats].apply(lambda x: skew(x)).sort_values(ascending=False)\n",
    "\n",
    "skewed_feats\n"
   ]
  },
  {
   "cell_type": "code",
   "execution_count": 26,
   "metadata": {},
   "outputs": [],
   "source": [
    "def fixing_skewness(df):\n",
    "    \"\"\"\n",
    "    This function takes in a dataframe and return fixed skewed dataframe\n",
    "    \"\"\"\n",
    "    ## Import necessary modules \n",
    "    from scipy.stats import skew\n",
    "    from scipy.special import boxcox1p\n",
    "    from scipy.stats import boxcox_normmax\n",
    "    \n",
    "    ## Getting all the data that are not of \"object\" type. \n",
    "    numeric_feats = df.dtypes[df.dtypes != \"object\"].index\n",
    "\n",
    "    # Check the skew of all numerical features\n",
    "    skewed_feats = df[numeric_feats].apply(lambda x: skew(x)).sort_values(ascending=False)\n",
    "    high_skew = skewed_feats[abs(skewed_feats) > 0.5]\n",
    "    skewed_features = high_skew.index\n",
    "\n",
    "    for feat in skewed_features:\n",
    "        df[feat] = boxcox1p(df[feat], boxcox_normmax(df[feat] + 1))\n",
    "\n",
    "fixing_skewness(df2)\n",
    "fixing_skewness(df1)"
   ]
  },
  {
   "cell_type": "code",
   "execution_count": 27,
   "metadata": {},
   "outputs": [],
   "source": [
    "#concat train dataset to df2 to do feature engineering\n",
    "df2.insert(3,'average rating', value=y_train['average_rating'])"
   ]
  },
  {
   "cell_type": "code",
   "execution_count": 28,
   "metadata": {},
   "outputs": [],
   "source": [
    "df2['title'] = label_encoder.fit_transform(df2['title'])\n",
    "df2['author'] = label_encoder.fit_transform(df2['author'])\n",
    "df2['publisher'] = label_encoder.fit_transform(df2['publisher'])"
   ]
  },
  {
   "cell_type": "code",
   "execution_count": 29,
   "metadata": {},
   "outputs": [],
   "source": [
    "X = df2.filter(['title','author','number_of_pages','review_count','rating_count','series','awards','publisher'])\n",
    "y = df2['average rating']"
   ]
  },
  {
   "cell_type": "code",
   "execution_count": 30,
   "metadata": {},
   "outputs": [],
   "source": [
    "X_copy = X.copy()"
   ]
  },
  {
   "cell_type": "code",
   "execution_count": 31,
   "metadata": {},
   "outputs": [
    {
     "name": "stdout",
     "output_type": "stream",
     "text": [
      "Num Features: 3\n",
      "Selected Features: [False False False  True  True  True False False]\n",
      "Feature Ranking: [6 5 3 1 1 1 2 4]\n"
     ]
    }
   ],
   "source": [
    "# Recursive Feature Elimination - feature selection\n",
    "from sklearn import linear_model\n",
    "from sklearn.feature_selection import RFE\n",
    "model = linear_model.LinearRegression()\n",
    "rfe = RFE(model, n_features_to_select=3)\n",
    "fit = rfe.fit(X_copy, y)\n",
    "print(\"Num Features: %s\" % (fit.n_features_))\n",
    "print(\"Selected Features: %s\" % (fit.support_))\n",
    "print(\"Feature Ranking: %s\" % (fit.ranking_))"
   ]
  },
  {
   "cell_type": "code",
   "execution_count": 32,
   "metadata": {},
   "outputs": [
    {
     "data": {
      "text/plain": [
       "Index(['title', 'author', 'number_of_pages', 'review_count', 'rating_count',\n",
       "       'series', 'awards', 'publisher'],\n",
       "      dtype='object')"
      ]
     },
     "execution_count": 32,
     "metadata": {},
     "output_type": "execute_result"
    }
   ],
   "source": [
    "X_copy.columns"
   ]
  },
  {
   "cell_type": "markdown",
   "metadata": {},
   "source": [
    "<b> Split test"
   ]
  },
  {
   "cell_type": "code",
   "execution_count": 33,
   "metadata": {},
   "outputs": [],
   "source": [
    "X_copy2 = X.copy()"
   ]
  },
  {
   "cell_type": "code",
   "execution_count": 34,
   "metadata": {},
   "outputs": [
    {
     "data": {
      "text/html": [
       "<div>\n",
       "<style scoped>\n",
       "    .dataframe tbody tr th:only-of-type {\n",
       "        vertical-align: middle;\n",
       "    }\n",
       "\n",
       "    .dataframe tbody tr th {\n",
       "        vertical-align: top;\n",
       "    }\n",
       "\n",
       "    .dataframe thead th {\n",
       "        text-align: right;\n",
       "    }\n",
       "</style>\n",
       "<table border=\"1\" class=\"dataframe\">\n",
       "  <thead>\n",
       "    <tr style=\"text-align: right;\">\n",
       "      <th></th>\n",
       "      <th>Actual value</th>\n",
       "      <th>Predicted value</th>\n",
       "    </tr>\n",
       "  </thead>\n",
       "  <tbody>\n",
       "    <tr>\n",
       "      <th>0</th>\n",
       "      <td>4.16</td>\n",
       "      <td>3.994121</td>\n",
       "    </tr>\n",
       "    <tr>\n",
       "      <th>1</th>\n",
       "      <td>4.60</td>\n",
       "      <td>3.980478</td>\n",
       "    </tr>\n",
       "    <tr>\n",
       "      <th>2</th>\n",
       "      <td>3.76</td>\n",
       "      <td>3.950684</td>\n",
       "    </tr>\n",
       "    <tr>\n",
       "      <th>3</th>\n",
       "      <td>4.97</td>\n",
       "      <td>3.984421</td>\n",
       "    </tr>\n",
       "    <tr>\n",
       "      <th>4</th>\n",
       "      <td>3.76</td>\n",
       "      <td>3.914942</td>\n",
       "    </tr>\n",
       "    <tr>\n",
       "      <th>5</th>\n",
       "      <td>3.42</td>\n",
       "      <td>3.931193</td>\n",
       "    </tr>\n",
       "    <tr>\n",
       "      <th>6</th>\n",
       "      <td>3.94</td>\n",
       "      <td>4.040725</td>\n",
       "    </tr>\n",
       "    <tr>\n",
       "      <th>7</th>\n",
       "      <td>4.18</td>\n",
       "      <td>4.041956</td>\n",
       "    </tr>\n",
       "    <tr>\n",
       "      <th>8</th>\n",
       "      <td>4.12</td>\n",
       "      <td>4.158755</td>\n",
       "    </tr>\n",
       "    <tr>\n",
       "      <th>9</th>\n",
       "      <td>3.75</td>\n",
       "      <td>4.193274</td>\n",
       "    </tr>\n",
       "  </tbody>\n",
       "</table>\n",
       "</div>"
      ],
      "text/plain": [
       "   Actual value  Predicted value\n",
       "0          4.16         3.994121\n",
       "1          4.60         3.980478\n",
       "2          3.76         3.950684\n",
       "3          4.97         3.984421\n",
       "4          3.76         3.914942\n",
       "5          3.42         3.931193\n",
       "6          3.94         4.040725\n",
       "7          4.18         4.041956\n",
       "8          4.12         4.158755\n",
       "9          3.75         4.193274"
      ]
     },
     "execution_count": 34,
     "metadata": {},
     "output_type": "execute_result"
    }
   ],
   "source": [
    "# 80 train, 20 value\n",
    "X_train, X_test, y_train, y_test = train_test_split(X_copy2, y, test_size = 0.2, random_state = 0, shuffle = True)\n",
    "lin_reg = LinearRegression()\n",
    "lin_reg.fit(X_train, y_train)\n",
    "my_prediction = lin_reg.predict(X_test)\n",
    "predict_df = pd.DataFrame({'Actual value': y_test.tolist(), 'Predicted value': my_prediction.tolist()}).head(25)\n",
    "predict_df.head(10)"
   ]
  },
  {
   "cell_type": "code",
   "execution_count": 35,
   "metadata": {},
   "outputs": [
    {
     "data": {
      "text/plain": [
       "0.375899959066923"
      ]
     },
     "execution_count": 35,
     "metadata": {},
     "output_type": "execute_result"
    }
   ],
   "source": [
    "#rmse\n",
    "np.sqrt(metrics.mean_squared_error(y_test, my_prediction))"
   ]
  },
  {
   "cell_type": "markdown",
   "metadata": {},
   "source": [
    "<b> KFold"
   ]
  },
  {
   "cell_type": "code",
   "execution_count": 36,
   "metadata": {},
   "outputs": [],
   "source": [
    "X_copy3 = X.copy()"
   ]
  },
  {
   "cell_type": "code",
   "execution_count": 37,
   "metadata": {},
   "outputs": [
    {
     "name": "stdout",
     "output_type": "stream",
     "text": [
      "RMSE: 0.36\n",
      "R_squared: 0.05\n"
     ]
    }
   ],
   "source": [
    "cv = KFold(n_splits=5, random_state=0, shuffle=True)\n",
    "classifier_pipeline = make_pipeline(StandardScaler(), KNeighborsRegressor(n_neighbors=10))\n",
    "y_pred = cross_val_predict(classifier_pipeline, X_copy3, y, cv=cv)\n",
    "print(\"RMSE: \" + str(round(sqrt(mean_squared_error(y,y_pred)),2)))\n",
    "print(\"R_squared: \" + str(round(r2_score(y,y_pred),2)))"
   ]
  },
  {
   "cell_type": "code",
   "execution_count": 38,
   "metadata": {},
   "outputs": [
    {
     "data": {
      "text/plain": [
       "Index(['title', 'author', 'number_of_pages', 'review_count', 'rating_count',\n",
       "       'series', 'awards', 'publisher'],\n",
       "      dtype='object')"
      ]
     },
     "execution_count": 38,
     "metadata": {},
     "output_type": "execute_result"
    }
   ],
   "source": [
    "X_copy3.columns"
   ]
  },
  {
   "cell_type": "markdown",
   "metadata": {},
   "source": [
    "<b> By variance"
   ]
  },
  {
   "cell_type": "code",
   "execution_count": 39,
   "metadata": {},
   "outputs": [
    {
     "data": {
      "text/plain": [
       "title              1.326567e+08\n",
       "author             4.493251e+07\n",
       "number_of_pages    1.595512e+01\n",
       "review_count       7.388710e+00\n",
       "rating_count       1.756306e+01\n",
       "series             2.471478e-01\n",
       "awards             3.648389e-01\n",
       "publisher          7.324770e+06\n",
       "dtype: float64"
      ]
     },
     "execution_count": 39,
     "metadata": {},
     "output_type": "execute_result"
    }
   ],
   "source": [
    "X.var()"
   ]
  },
  {
   "cell_type": "code",
   "execution_count": 40,
   "metadata": {},
   "outputs": [],
   "source": [
    "X1 = X.filter(['author','number_of_pages','review_count','series','awards','publisher'])"
   ]
  },
  {
   "cell_type": "code",
   "execution_count": 41,
   "metadata": {},
   "outputs": [
    {
     "name": "stdout",
     "output_type": "stream",
     "text": [
      "RMSE: 0.36\n",
      "R_squared: 0.03\n"
     ]
    }
   ],
   "source": [
    "y_pred = cross_val_predict(classifier_pipeline, X1, y, cv=cv)\n",
    "print(\"RMSE: \" + str(round(sqrt(mean_squared_error(y,y_pred)),2)))\n",
    "print(\"R_squared: \" + str(round(r2_score(y,y_pred),2)))"
   ]
  },
  {
   "cell_type": "markdown",
   "metadata": {},
   "source": [
    "<b> By correlation"
   ]
  },
  {
   "cell_type": "code",
   "execution_count": 42,
   "metadata": {},
   "outputs": [
    {
     "data": {
      "text/plain": [
       "author             0.003271\n",
       "title              0.005895\n",
       "publisher          0.009634\n",
       "awards             0.044683\n",
       "number_of_pages    0.058264\n",
       "rating_count       0.073534\n",
       "series             0.080581\n",
       "review_count       0.110456\n",
       "id                 0.122165\n",
       "average rating     1.000000\n",
       "Name: average rating, dtype: float64"
      ]
     },
     "execution_count": 42,
     "metadata": {},
     "output_type": "execute_result"
    }
   ],
   "source": [
    "abso = abs(df2.corr()[\"average rating\"])\n",
    "abso.sort_values(ascending = True)"
   ]
  },
  {
   "cell_type": "code",
   "execution_count": 43,
   "metadata": {},
   "outputs": [],
   "source": [
    "df2 = df2.drop(columns = 'id')"
   ]
  },
  {
   "cell_type": "code",
   "execution_count": 44,
   "metadata": {},
   "outputs": [
    {
     "name": "stdout",
     "output_type": "stream",
     "text": [
      "['title', 'series', 'author', 'rating_count', 'review_count', 'number_of_pages', 'publisher', 'awards']\n",
      "RMSE: 0.36\n",
      "R_squared: 0.05\n",
      "['title', 'series', 'rating_count', 'review_count', 'number_of_pages', 'publisher', 'awards']\n",
      "RMSE: 0.36\n",
      "R_squared: 0.05\n",
      "['series', 'rating_count', 'review_count', 'number_of_pages', 'publisher', 'awards']\n",
      "RMSE: 0.35\n",
      "R_squared: 0.11\n",
      "['series', 'rating_count', 'review_count', 'number_of_pages', 'awards']\n",
      "RMSE: 0.33\n",
      "R_squared: 0.17\n",
      "['series', 'rating_count', 'review_count', 'number_of_pages']\n",
      "RMSE: 0.33\n",
      "R_squared: 0.17\n",
      "['series', 'rating_count', 'review_count']\n",
      "RMSE: 0.33\n",
      "R_squared: 0.2\n",
      "['series', 'review_count']\n",
      "RMSE: 0.37\n",
      "R_squared: -0.02\n",
      "['review_count']\n",
      "RMSE: 0.39\n",
      "R_squared: -0.1\n"
     ]
    }
   ],
   "source": [
    "thres = [0.003,0.005,0.009,0.044,0.058,0.073,0.080,0.110] #this threshold number is denoted by the correlation score in the above cell\n",
    "for val in thres:\n",
    "    features = abs(df2.corr()[\"average rating\"][abs(df2.corr()[\"average rating\"])>=val].drop('average rating')).index.tolist()\n",
    "    \n",
    "    X = df2.drop(columns='average rating')\n",
    "    X=X[features]\n",
    "    \n",
    "    print(features)\n",
    "\n",
    "    y_pred = cross_val_predict(classifier_pipeline, X, y, cv=cv)\n",
    "    print(\"RMSE: \" + str(round(sqrt(mean_squared_error(y,y_pred)),2)))\n",
    "    print(\"R_squared: \" + str(round(r2_score(y,y_pred),2)))"
   ]
  },
  {
   "cell_type": "markdown",
   "metadata": {},
   "source": [
    "The best result comes to the collection of series, rating count and review count by corr analysis "
   ]
  },
  {
   "cell_type": "markdown",
   "metadata": {},
   "source": [
    "<H4> Test dataset"
   ]
  },
  {
   "cell_type": "code",
   "execution_count": 45,
   "metadata": {},
   "outputs": [
    {
     "data": {
      "text/plain": [
       "id                 6.997243e+03\n",
       "series             2.472684e-01\n",
       "rating_count       1.809239e+01\n",
       "review_count       7.257026e+00\n",
       "number_of_pages    2.126280e+01\n",
       "awards             2.820966e+09\n",
       "dtype: float64"
      ]
     },
     "execution_count": 45,
     "metadata": {},
     "output_type": "execute_result"
    }
   ],
   "source": [
    "df1.var()"
   ]
  },
  {
   "cell_type": "code",
   "execution_count": 46,
   "metadata": {},
   "outputs": [],
   "source": [
    "df1['title'] = label_encoder.fit_transform(df1['title'])\n",
    "df1['author'] = label_encoder.fit_transform(df1['author'])\n",
    "df1['publisher'] = label_encoder.fit_transform(df1['publisher'])\n"
   ]
  },
  {
   "cell_type": "code",
   "execution_count": 47,
   "metadata": {},
   "outputs": [
    {
     "data": {
      "text/plain": [
       "id                 6.997243e+03\n",
       "title              8.805015e+06\n",
       "series             2.472684e-01\n",
       "author             5.079195e+06\n",
       "rating_count       1.809239e+01\n",
       "review_count       7.257026e+00\n",
       "number_of_pages    2.126280e+01\n",
       "publisher          1.086355e+06\n",
       "awards             2.820966e+09\n",
       "dtype: float64"
      ]
     },
     "execution_count": 47,
     "metadata": {},
     "output_type": "execute_result"
    }
   ],
   "source": [
    "df1.var()"
   ]
  },
  {
   "cell_type": "code",
   "execution_count": 48,
   "metadata": {},
   "outputs": [],
   "source": [
    "df1 = df1.drop(columns ='id')"
   ]
  },
  {
   "cell_type": "code",
   "execution_count": 49,
   "metadata": {},
   "outputs": [
    {
     "data": {
      "text/plain": [
       "title              8.805015e+06\n",
       "series             2.472684e-01\n",
       "author             5.079195e+06\n",
       "rating_count       1.809239e+01\n",
       "review_count       7.257026e+00\n",
       "number_of_pages    2.126280e+01\n",
       "publisher          1.086355e+06\n",
       "awards             2.820966e+09\n",
       "dtype: float64"
      ]
     },
     "execution_count": 49,
     "metadata": {},
     "output_type": "execute_result"
    }
   ],
   "source": [
    "df1.var()"
   ]
  },
  {
   "cell_type": "code",
   "execution_count": 50,
   "metadata": {},
   "outputs": [],
   "source": [
    "y_test = pd.read_csv('sampleSubmission.csv', encoding = 'UTF-8')"
   ]
  },
  {
   "cell_type": "code",
   "execution_count": 51,
   "metadata": {},
   "outputs": [],
   "source": [
    "X2 = df1.filter(['title','author','number_of_pages','review_count','rating_count','series','awards','publisher'])\n",
    "y2 = y_test['average_rating']"
   ]
  },
  {
   "cell_type": "code",
   "execution_count": 52,
   "metadata": {},
   "outputs": [
    {
     "data": {
      "text/plain": [
       "(10440, 8)"
      ]
     },
     "execution_count": 52,
     "metadata": {},
     "output_type": "execute_result"
    }
   ],
   "source": [
    "X2.shape"
   ]
  },
  {
   "cell_type": "code",
   "execution_count": 53,
   "metadata": {},
   "outputs": [],
   "source": [
    "X2_copy = X2.copy()"
   ]
  },
  {
   "cell_type": "markdown",
   "metadata": {},
   "source": [
    "<b> Recursive"
   ]
  },
  {
   "cell_type": "code",
   "execution_count": 54,
   "metadata": {},
   "outputs": [
    {
     "name": "stdout",
     "output_type": "stream",
     "text": [
      "Num Features: 3\n",
      "Selected Features: [False False False  True  True  True False False]\n",
      "Feature Ranking: [5 4 2 1 1 1 6 3]\n"
     ]
    }
   ],
   "source": [
    "# Recursive Feature Elimination - feature selection\n",
    "from sklearn import linear_model\n",
    "from sklearn.feature_selection import RFE\n",
    "model = linear_model.LinearRegression()\n",
    "rfe = RFE(model, n_features_to_select=3)\n",
    "fit = rfe.fit(X2_copy, y2)\n",
    "print(\"Num Features: %s\" % (fit.n_features_))\n",
    "print(\"Selected Features: %s\" % (fit.support_))\n",
    "print(\"Feature Ranking: %s\" % (fit.ranking_))"
   ]
  },
  {
   "cell_type": "markdown",
   "metadata": {},
   "source": [
    "<b> Linear test"
   ]
  },
  {
   "cell_type": "code",
   "execution_count": 55,
   "metadata": {},
   "outputs": [],
   "source": [
    "X3_copy = X2.copy()"
   ]
  },
  {
   "cell_type": "code",
   "execution_count": 56,
   "metadata": {},
   "outputs": [
    {
     "name": "stdout",
     "output_type": "stream",
     "text": [
      "RMSE: 1.41\n",
      "R_squared: -0.0\n"
     ]
    }
   ],
   "source": [
    "# 80 train, 20 value\n",
    "X_train, X_test, y_train, y_test = train_test_split(X3_copy, y2, test_size = 0.2, random_state = 0, shuffle = True)\n",
    "lin_reg = LinearRegression()\n",
    "lin_reg.fit(X_train, y_train)\n",
    "my_prediction = lin_reg.predict(X_test)\n",
    "#rmse\n",
    "print(\"RMSE: \" + str(round(sqrt(mean_squared_error(y_test,my_prediction)),2)))\n",
    "print(\"R_squared: \" + str(round(r2_score(y_test,my_prediction),2)))"
   ]
  },
  {
   "cell_type": "markdown",
   "metadata": {},
   "source": [
    "<b>KFold"
   ]
  },
  {
   "cell_type": "code",
   "execution_count": 57,
   "metadata": {},
   "outputs": [],
   "source": [
    "X4_copy = X2.copy()"
   ]
  },
  {
   "cell_type": "code",
   "execution_count": 58,
   "metadata": {},
   "outputs": [
    {
     "name": "stdout",
     "output_type": "stream",
     "text": [
      "RMSE: 1.5\n",
      "R_squared: -0.1\n"
     ]
    }
   ],
   "source": [
    "cv = KFold(n_splits=5, random_state=0, shuffle=True)\n",
    "classifier_pipeline = make_pipeline(StandardScaler(), KNeighborsRegressor(n_neighbors=10))\n",
    "y_pred = cross_val_predict(classifier_pipeline, X4_copy, y2, cv=cv)\n",
    "print(\"RMSE: \" + str(round(sqrt(mean_squared_error(y2,y_pred)),2)))\n",
    "print(\"R_squared: \" + str(round(r2_score(y2,y_pred),2)))"
   ]
  },
  {
   "cell_type": "markdown",
   "metadata": {},
   "source": [
    "<b> By variance"
   ]
  },
  {
   "cell_type": "code",
   "execution_count": 59,
   "metadata": {},
   "outputs": [
    {
     "data": {
      "text/plain": [
       "title              8.805015e+06\n",
       "author             5.079195e+06\n",
       "number_of_pages    2.126280e+01\n",
       "review_count       7.257026e+00\n",
       "rating_count       1.809239e+01\n",
       "series             2.472684e-01\n",
       "awards             2.820966e+09\n",
       "publisher          1.086355e+06\n",
       "dtype: float64"
      ]
     },
     "execution_count": 59,
     "metadata": {},
     "output_type": "execute_result"
    }
   ],
   "source": [
    "X2.var()"
   ]
  },
  {
   "cell_type": "code",
   "execution_count": 60,
   "metadata": {},
   "outputs": [],
   "source": [
    "X5 = X2.filter(['title','author','number_of_page','review_count','rating_count','series','awards'])"
   ]
  },
  {
   "cell_type": "code",
   "execution_count": 61,
   "metadata": {},
   "outputs": [
    {
     "name": "stdout",
     "output_type": "stream",
     "text": [
      "RMSE: 1.51\n",
      "R_squared: -0.11\n"
     ]
    }
   ],
   "source": [
    "y_pred = cross_val_predict(classifier_pipeline, X5, y2, cv=cv)\n",
    "print(\"RMSE: \" + str(round(sqrt(mean_squared_error(y2,y_pred)),2)))\n",
    "print(\"R_squared: \" + str(round(r2_score(y2,y_pred),2)))"
   ]
  },
  {
   "cell_type": "markdown",
   "metadata": {},
   "source": [
    "<b> By correlation"
   ]
  },
  {
   "cell_type": "code",
   "execution_count": 62,
   "metadata": {},
   "outputs": [],
   "source": [
    "y_test = pd.read_csv('sampleSubmission.csv', encoding = 'UTF-8')"
   ]
  },
  {
   "cell_type": "code",
   "execution_count": 63,
   "metadata": {},
   "outputs": [],
   "source": [
    "X2 = df1.filter(['title','author','number_of_pages','review_count','rating_count','series','awards','publisher'])\n",
    "y2 = y_test['average_rating']"
   ]
  },
  {
   "cell_type": "code",
   "execution_count": 64,
   "metadata": {},
   "outputs": [],
   "source": [
    "#concat train dataset to df2 to do feature engineering\n",
    "df1.insert(3,'average_rating', value=y_test['average_rating'])"
   ]
  },
  {
   "cell_type": "code",
   "execution_count": 65,
   "metadata": {},
   "outputs": [],
   "source": [
    "absolute = abs(df1.corr()[\"average_rating\"])"
   ]
  },
  {
   "cell_type": "code",
   "execution_count": 66,
   "metadata": {},
   "outputs": [
    {
     "data": {
      "text/plain": [
       "awards             0.002054\n",
       "series             0.003725\n",
       "number_of_pages    0.005100\n",
       "title              0.006158\n",
       "rating_count       0.008544\n",
       "review_count       0.009977\n",
       "author             0.011220\n",
       "publisher          0.012891\n",
       "average_rating     1.000000\n",
       "Name: average_rating, dtype: float64"
      ]
     },
     "execution_count": 66,
     "metadata": {},
     "output_type": "execute_result"
    }
   ],
   "source": [
    "absolute.sort_values(ascending=True)"
   ]
  },
  {
   "cell_type": "code",
   "execution_count": 67,
   "metadata": {},
   "outputs": [
    {
     "name": "stdout",
     "output_type": "stream",
     "text": [
      "['title', 'series', 'author', 'rating_count', 'review_count', 'number_of_pages', 'publisher', 'awards']\n",
      "RMSE: 1.5\n",
      "R_squared: -0.1\n",
      "['title', 'series', 'author', 'rating_count', 'review_count', 'number_of_pages', 'publisher']\n",
      "RMSE: 1.5\n",
      "R_squared: -0.1\n",
      "['title', 'author', 'rating_count', 'review_count', 'number_of_pages', 'publisher']\n",
      "RMSE: 1.5\n",
      "R_squared: -0.11\n",
      "['title', 'author', 'rating_count', 'review_count', 'publisher']\n",
      "RMSE: 1.5\n",
      "R_squared: -0.1\n",
      "['author', 'rating_count', 'review_count', 'publisher']\n",
      "RMSE: 1.51\n",
      "R_squared: -0.11\n",
      "['author', 'review_count', 'publisher']\n",
      "RMSE: 1.5\n",
      "R_squared: -0.1\n",
      "['author', 'publisher']\n",
      "RMSE: 1.5\n",
      "R_squared: -0.1\n",
      "['publisher']\n",
      "RMSE: 1.51\n",
      "R_squared: -0.12\n"
     ]
    }
   ],
   "source": [
    "thres = [0.002,0.003,0.005,0.006,0.008,0.009,0.011,0.012]\n",
    "for val in thres:\n",
    "    features = abs(df1.corr()[\"average_rating\"][abs(df1.corr()[\"average_rating\"])>=val].drop('average_rating')).index.tolist()\n",
    "    \n",
    "    X1 = df1.drop(columns='average_rating')\n",
    "    X1=X1[features]\n",
    "    \n",
    "    print(features)\n",
    "\n",
    "    y_pred = cross_val_predict(classifier_pipeline, X1, y2, cv=cv)\n",
    "    print(\"RMSE: \" + str(round(sqrt(mean_squared_error(y2,y_pred)),2)))\n",
    "    print(\"R_squared: \" + str(round(r2_score(y2,y_pred),2)))"
   ]
  },
  {
   "cell_type": "markdown",
   "metadata": {},
   "source": [
    "<h3> 3. Model Training"
   ]
  },
  {
   "cell_type": "markdown",
   "metadata": {},
   "source": [
    "<b> Simple linear regression"
   ]
  },
  {
   "cell_type": "code",
   "execution_count": 68,
   "metadata": {},
   "outputs": [],
   "source": [
    "X = df2.filter(['series','review_count','rating_count'])\n",
    "X_copy = X.copy()"
   ]
  },
  {
   "cell_type": "code",
   "execution_count": 69,
   "metadata": {},
   "outputs": [
    {
     "name": "stdout",
     "output_type": "stream",
     "text": [
      "       series  review_count  rating_count\n",
      "0           0      4.329526      7.871006\n",
      "1           0      8.412184     12.984782\n",
      "2           1      5.008231      8.477627\n",
      "3           1      6.634064     11.356868\n",
      "4           1      5.893985     11.362004\n",
      "...       ...           ...           ...\n",
      "41754       1      5.694547     11.214614\n",
      "41755       1      8.304241     14.295481\n",
      "41756       0      4.046474     11.514836\n",
      "41757       0      9.381871     15.640619\n",
      "41758       0      8.091673     12.407183\n",
      "\n",
      "[41759 rows x 3 columns]\n",
      "0        3.62\n",
      "1        3.80\n",
      "2        3.55\n",
      "3        4.24\n",
      "4        4.33\n",
      "         ... \n",
      "41754    4.31\n",
      "41755    4.10\n",
      "41756    4.31\n",
      "41757    4.45\n",
      "41758    3.96\n",
      "Name: average rating, Length: 41759, dtype: float64\n"
     ]
    }
   ],
   "source": [
    "print(X)\n",
    "print(y)"
   ]
  },
  {
   "cell_type": "code",
   "execution_count": 70,
   "metadata": {},
   "outputs": [
    {
     "name": "stdout",
     "output_type": "stream",
     "text": [
      "33407\n",
      "8352\n"
     ]
    }
   ],
   "source": [
    "# train/test split with scikit-learn\n",
    "from sklearn.model_selection import train_test_split\n",
    "\n",
    "X_train, X_test, Y_train, Y_test = train_test_split(X_copy, y, test_size=0.2, random_state=0, shuffle=True)\n",
    "print(len(X_train))\n",
    "print(len(X_test))"
   ]
  },
  {
   "cell_type": "code",
   "execution_count": 71,
   "metadata": {},
   "outputs": [
    {
     "data": {
      "text/plain": [
       "LinearRegression()"
      ]
     },
     "execution_count": 71,
     "metadata": {},
     "output_type": "execute_result"
    }
   ],
   "source": [
    "# Train the model using the training sets\n",
    "model1 = linear_model.LinearRegression()\n",
    "model1.fit(X_train, Y_train)"
   ]
  },
  {
   "cell_type": "code",
   "execution_count": 72,
   "metadata": {},
   "outputs": [],
   "source": [
    "# Make predictions using the testing set\n",
    "Y_pred3 = model1.predict(X_test)"
   ]
  },
  {
   "cell_type": "code",
   "execution_count": 73,
   "metadata": {},
   "outputs": [
    {
     "name": "stdout",
     "output_type": "stream",
     "text": [
      "Root Mean Squared Error (RMSE): 0.3769\n",
      "R_squared: 0.03\n",
      "Mean absolute error (MAE): 0.26\n"
     ]
    }
   ],
   "source": [
    "\n",
    "# The mean squared error\n",
    "print('Root Mean Squared Error (RMSE): %.4f' \n",
    "      % np.sqrt(metrics.mean_squared_error(Y_test, Y_pred3)))\n",
    "# The coefficient of determination: 1 is perfect prediction\n",
    "print('R_squared: %.2f'\n",
    "      % metrics.r2_score(Y_test,Y_pred3))\n",
    "# The mean absolute error - MAE\n",
    "print('Mean absolute error (MAE): %.2f'\n",
    "      % metrics.mean_absolute_error(Y_test,Y_pred3))"
   ]
  },
  {
   "cell_type": "code",
   "execution_count": 74,
   "metadata": {},
   "outputs": [
    {
     "data": {
      "text/plain": [
       "<seaborn.axisgrid.FacetGrid at 0x1ee2ea89700>"
      ]
     },
     "execution_count": 74,
     "metadata": {},
     "output_type": "execute_result"
    },
    {
     "data": {
      "text/plain": [
       "<Figure size 1440x576 with 0 Axes>"
      ]
     },
     "metadata": {},
     "output_type": "display_data"
    },
    {
     "data": {
      "image/png": "[encoded data removed]",
      "text/plain": [
       "<Figure size 360x360 with 1 Axes>"
      ]
     },
     "metadata": {
      "needs_background": "light"
     },
     "output_type": "display_data"
    }
   ],
   "source": [
    "plt.figure(figsize=(20,8))\n",
    "sns.displot(x = Y_pred3)"
   ]
  },
  {
   "cell_type": "code",
   "execution_count": 75,
   "metadata": {},
   "outputs": [
    {
     "data": {
      "image/png": "[encoded data removed]",
      "text/plain": [
       "<Figure size 432x288 with 1 Axes>"
      ]
     },
     "metadata": {
      "needs_background": "light"
     },
     "output_type": "display_data"
    }
   ],
   "source": [
    "fig, ax = plt.subplots()\n",
    "ax.scatter(Y_pred3, Y_test)\n",
    "ax.plot([Y_pred3.min(), Y_pred3.max()], [Y_pred3.min(), Y_pred3.max()], 'k--', lw=2)\n",
    "ax.set_xlabel('Measured')\n",
    "ax.set_ylabel('Predicted')\n",
    "plt.show()"
   ]
  },
  {
   "cell_type": "code",
   "execution_count": 76,
   "metadata": {},
   "outputs": [
    {
     "name": "stdout",
     "output_type": "stream",
     "text": [
      "Cross-Predicted(KFold) Linear Accuracy:  0.028850730851302298\n"
     ]
    }
   ],
   "source": [
    "#Predicting the AverageRating using cross validation (KFold method)\n",
    "Y_pred3 = cross_val_predict(model1, X_copy, y, cv=10 )\n",
    "#Linear Accuracy with cross validation\n",
    "accuracy_ln = metrics.r2_score(y, Y_pred3)\n",
    "print('Cross-Predicted(KFold) Linear Accuracy: ', accuracy_ln)"
   ]
  },
  {
   "cell_type": "markdown",
   "metadata": {},
   "source": [
    "<b> Polinominal regression"
   ]
  },
  {
   "cell_type": "code",
   "execution_count": 77,
   "metadata": {},
   "outputs": [],
   "source": [
    "y_train = pd.read_csv('y_train.csv', sep = ',', encoding = 'utf-8')"
   ]
  },
  {
   "cell_type": "code",
   "execution_count": 78,
   "metadata": {},
   "outputs": [],
   "source": [
    "Y = y_train['average_rating']"
   ]
  },
  {
   "cell_type": "code",
   "execution_count": 79,
   "metadata": {},
   "outputs": [],
   "source": [
    "X_copy2 = X.copy()\n",
    "Y_copy = Y.copy()"
   ]
  },
  {
   "cell_type": "code",
   "execution_count": 80,
   "metadata": {},
   "outputs": [],
   "source": [
    "#train test split\n",
    "X_train, X_test, Y_train, Y_test = train_test_split(X_copy2, Y_copy, test_size=0.2, random_state=0, shuffle=True)"
   ]
  },
  {
   "cell_type": "code",
   "execution_count": 81,
   "metadata": {},
   "outputs": [
    {
     "name": "stdout",
     "output_type": "stream",
     "text": [
      "Root Mean Squared Error (RMSE): 0.3769\n",
      "R_squared: 0.03\n",
      "Mean absolute error (MAE): 0.26\n",
      "Wall time: 7.08 ms\n"
     ]
    }
   ],
   "source": [
    "%%time\n",
    "from sklearn.preprocessing import PolynomialFeatures\n",
    "from sklearn.pipeline import Pipeline\n",
    "model2 = Pipeline([('poly', PolynomialFeatures(degree=2)),\n",
    "                  ('linear', linear_model.LinearRegression())])\n",
    "# fit to an order-2 polynomial data\n",
    "model2 = model.fit(X_train,Y_train)\n",
    "# Make predictions using the testing set\n",
    "Y_pred2 = model.predict(X_test)\n",
    "\n",
    "# The mean squared error\n",
    "print('Root Mean Squared Error (RMSE): %.4f' \n",
    "      % np.sqrt(metrics.mean_squared_error(Y_test, Y_pred2)))\n",
    "# The coefficient of determination: 1 is perfect prediction\n",
    "print('R_squared: %.2f'\n",
    "      % metrics.r2_score(Y_test,Y_pred2))\n",
    "# The mean absolute error - MAE\n",
    "print('Mean absolute error (MAE): %.2f'\n",
    "      % metrics.mean_absolute_error(Y_test,Y_pred2))"
   ]
  },
  {
   "cell_type": "code",
   "execution_count": 82,
   "metadata": {},
   "outputs": [
    {
     "name": "stdout",
     "output_type": "stream",
     "text": [
      "Cross-Predicted(KFold) Polinominal Accuracy:  0.028850730851302298\n"
     ]
    }
   ],
   "source": [
    "#Predicting the AverageRating using cross validation (KFold method)\n",
    "Y_pred2 = cross_val_predict(model2, X_copy2, Y_copy, cv=10 )\n",
    "#Polinominal Accuracy with cross validation\n",
    "accuracy_p = metrics.r2_score(Y_copy, Y_pred2)\n",
    "print('Cross-Predicted(KFold) Polinominal Accuracy: ', accuracy_p)"
   ]
  },
  {
   "cell_type": "markdown",
   "metadata": {},
   "source": [
    "<b> Polinominal and Linear\n",
    "    "
   ]
  },
  {
   "cell_type": "code",
   "execution_count": 83,
   "metadata": {},
   "outputs": [],
   "source": [
    "X_copy3 = X.copy()"
   ]
  },
  {
   "cell_type": "code",
   "execution_count": 84,
   "metadata": {},
   "outputs": [],
   "source": [
    "Y_copy2 = Y.copy()"
   ]
  },
  {
   "cell_type": "code",
   "execution_count": 85,
   "metadata": {},
   "outputs": [
    {
     "name": "stdout",
     "output_type": "stream",
     "text": [
      "33407\n",
      "8352\n"
     ]
    }
   ],
   "source": [
    "# train/test split with scikit-learn\n",
    "from sklearn.model_selection import train_test_split\n",
    "\n",
    "X_train, X_test, Y_train, Y_test = train_test_split(X_copy3, Y_copy2, test_size=0.2, random_state=0, shuffle=True)\n",
    "print(len(X_train))\n",
    "print(len(X_test))"
   ]
  },
  {
   "cell_type": "code",
   "execution_count": 86,
   "metadata": {},
   "outputs": [
    {
     "name": "stdout",
     "output_type": "stream",
     "text": [
      "Root Mean Squared Error (RMSE): 0.3769\n",
      "R_squared: 0.03\n",
      "Mean absolute error (MAE): 0.26\n",
      "Wall time: 15 ms\n"
     ]
    }
   ],
   "source": [
    "%%time\n",
    "from sklearn.preprocessing import PolynomialFeatures\n",
    "from sklearn.pipeline import Pipeline\n",
    "\n",
    "model3 = Pipeline([('poly', PolynomialFeatures(degree=2)),\n",
    "                  ('linear', linear_model.LinearRegression())])\n",
    "\n",
    "model3 = model.fit(X_train,Y_train)\n",
    "Y_pred1 = model.predict(X_test)\n",
    "\n",
    "\n",
    "# The mean squared error\n",
    "print('Root Mean Squared Error (RMSE): %.4f' \n",
    "      % np.sqrt(metrics.mean_squared_error(Y_test, Y_pred1)))\n",
    "# The coefficient of determination: 1 is perfect prediction\n",
    "print('R_squared: %.2f'\n",
    "      % metrics.r2_score(Y_test,Y_pred1))\n",
    "# The mean absolute error - MAE\n",
    "print('Mean absolute error (MAE): %.2f'\n",
    "      % metrics.mean_absolute_error(Y_test,Y_pred1))"
   ]
  },
  {
   "cell_type": "code",
   "execution_count": 87,
   "metadata": {},
   "outputs": [
    {
     "name": "stdout",
     "output_type": "stream",
     "text": [
      "Cross-Predicted(KFold) PL Accuracy:  0.028850730851302298\n"
     ]
    }
   ],
   "source": [
    "#Predicting the AverageRating using cross validation (KFold method)\n",
    "Y_pred1 = cross_val_predict(model3, X_copy3, Y_copy2, cv=10 )\n",
    "#PL Regression Accuracy with cross validation\n",
    "accuracy_pl = metrics.r2_score(Y_copy2, Y_pred1)\n",
    "print('Cross-Predicted(KFold) PL Accuracy: ', accuracy_pl)"
   ]
  },
  {
   "cell_type": "markdown",
   "metadata": {},
   "source": [
    "<b> XGBoost"
   ]
  },
  {
   "cell_type": "code",
   "execution_count": 88,
   "metadata": {},
   "outputs": [],
   "source": [
    "X_copy4 = X.copy()"
   ]
  },
  {
   "cell_type": "code",
   "execution_count": 89,
   "metadata": {},
   "outputs": [],
   "source": [
    "Y_copy3 = Y.copy()"
   ]
  },
  {
   "cell_type": "code",
   "execution_count": 90,
   "metadata": {},
   "outputs": [
    {
     "name": "stdout",
     "output_type": "stream",
     "text": [
      "33407\n",
      "8352\n"
     ]
    }
   ],
   "source": [
    "# train/test split with scikit-learn\n",
    "from sklearn.model_selection import train_test_split\n",
    "\n",
    "X_train, X_test, Y_train, Y_test = train_test_split(X_copy4, Y_copy3, test_size=0.2, random_state=0, shuffle=True)\n",
    "print(len(X_train))\n",
    "print(len(X_test))"
   ]
  },
  {
   "cell_type": "code",
   "execution_count": 91,
   "metadata": {},
   "outputs": [
    {
     "name": "stdout",
     "output_type": "stream",
     "text": [
      "Root Mean Squared Error (RMSE): 0.3148\n",
      "R_squared: 0.32\n",
      "Mean absolute error (MAE): 0.24\n",
      "Wall time: 1.6 s\n"
     ]
    }
   ],
   "source": [
    "%%time\n",
    "model = xgboost.XGBRegressor()\n",
    "model = model.fit(X_train, Y_train)\n",
    "# Make predictions using the training set\n",
    "Y_pred4 = model.predict(X_test)\n",
    "\n",
    "\n",
    "# The mean squared error\n",
    "print('Root Mean Squared Error (RMSE): %.4f' \n",
    "      % np.sqrt(metrics.mean_squared_error(Y_test, Y_pred4)))\n",
    "# The coefficient of determination: 1 is perfect prediction\n",
    "print('R_squared: %.2f'\n",
    "      % metrics.r2_score(Y_test,Y_pred4))\n",
    "# The mean absolute error - MAE\n",
    "print('Mean absolute error (MAE): %.2f'\n",
    "      % metrics.mean_absolute_error(Y_test,Y_pred4))"
   ]
  },
  {
   "cell_type": "code",
   "execution_count": 92,
   "metadata": {},
   "outputs": [
    {
     "name": "stdout",
     "output_type": "stream",
     "text": [
      "Cross-Predicted(KFold)XGBoost Accuracy:  0.2638729609899019\n"
     ]
    }
   ],
   "source": [
    "#Predicting the AverageRating using cross validation (KFold method)\n",
    "Y_pred4 = cross_val_predict(model, X_copy4, Y_copy3, cv=10 )\n",
    "#XGBoost Accuracy with cross validation\n",
    "accuracy_dt = metrics.r2_score(Y_copy3, Y_pred4)\n",
    "print('Cross-Predicted(KFold)XGBoost Accuracy: ', accuracy_dt)"
   ]
  },
  {
   "cell_type": "markdown",
   "metadata": {},
   "source": [
    "<b> Desision Tree Regressor"
   ]
  },
  {
   "cell_type": "code",
   "execution_count": 93,
   "metadata": {},
   "outputs": [],
   "source": [
    "X_copy5 = X.copy()\n",
    "Y_copy4 = Y.copy()\n"
   ]
  },
  {
   "cell_type": "code",
   "execution_count": 94,
   "metadata": {},
   "outputs": [],
   "source": [
    "from sklearn.tree import DecisionTreeRegressor"
   ]
  },
  {
   "cell_type": "code",
   "execution_count": 95,
   "metadata": {},
   "outputs": [
    {
     "name": "stdout",
     "output_type": "stream",
     "text": [
      "33407\n",
      "8352\n"
     ]
    }
   ],
   "source": [
    "# train/test split with scikit-learn\n",
    "from sklearn.model_selection import train_test_split\n",
    "\n",
    "X_train, X_test, Y_train, Y_test = train_test_split(X_copy5, Y_copy4, test_size=0.2, random_state=0, shuffle=True)\n",
    "print(len(X_train))\n",
    "print(len(X_test))"
   ]
  },
  {
   "cell_type": "code",
   "execution_count": 96,
   "metadata": {},
   "outputs": [
    {
     "name": "stdout",
     "output_type": "stream",
     "text": [
      "Root Mean Squared Error (RMSE): 0.4175\n",
      "R_squared: -0.19\n",
      "Mean absolute error (MAE): 0.32\n",
      "Wall time: 148 ms\n"
     ]
    }
   ],
   "source": [
    "%%time\n",
    "dt_regressor = DecisionTreeRegressor(random_state = 0)\n",
    "dt_regressor.fit(X_train,Y_train)\n",
    "\n",
    "#Predicting the AverageRating using test set \n",
    "y_pred_dt = dt_regressor.predict(X_test)\n",
    "y_pred_dt = y_pred_dt.round(2)\n",
    "\n",
    "\n",
    "# The mean squared error\n",
    "print('Root Mean Squared Error (RMSE): %.4f' \n",
    "      % np.sqrt(metrics.mean_squared_error(Y_test, y_pred_dt)))\n",
    "# The coefficient of determination: 1 is perfect prediction\n",
    "print('R_squared: %.2f'\n",
    "      % metrics.r2_score(Y_test,y_pred_dt))\n",
    "# The mean absolute error - MAE\n",
    "print('Mean absolute error (MAE): %.2f'\n",
    "      % metrics.mean_absolute_error(Y_test,y_pred_dt))"
   ]
  },
  {
   "cell_type": "code",
   "execution_count": 97,
   "metadata": {},
   "outputs": [
    {
     "name": "stdout",
     "output_type": "stream",
     "text": [
      "Cross-Predicted(KFold) Decision Tree Regression Accuracy:  -0.28832599900309996\n"
     ]
    }
   ],
   "source": [
    "#Predicting the AverageRating using cross validation (KFold method)\n",
    "y_pred_dt = cross_val_predict(dt_regressor, X_copy5, Y_copy4, cv=10 )\n",
    "#Decision Tree Regression Accuracy with cross validation\n",
    "accuracy_dt = metrics.r2_score(Y_copy4, y_pred_dt)\n",
    "print('Cross-Predicted(KFold) Decision Tree Regression Accuracy: ', accuracy_dt)\n"
   ]
  },
  {
   "cell_type": "markdown",
   "metadata": {},
   "source": [
    "<h3> 4. Model Evaluation\n",
    "    "
   ]
  },
  {
   "cell_type": "code",
   "execution_count": 98,
   "metadata": {},
   "outputs": [
    {
     "name": "stdout",
     "output_type": "stream",
     "text": [
      "+----------------------+--------+------+-------+----------+\n",
      "|        Model         |  RMSE  | MAE  |  R2   | Accuracy |\n",
      "+======================+========+======+=======+==========+\n",
      "|  Linear Regression   | 0.3769 | 0.26 | 0.03  |  0.0288  |\n",
      "+----------------------+--------+------+-------+----------+\n",
      "|     Polinominal      | 0.3769 | 0.26 | 0.03  |  0.0288  |\n",
      "+----------------------+--------+------+-------+----------+\n",
      "| Polinominal & Linear | 0.3769 | 0.26 | 0.03  |  0.0288  |\n",
      "+----------------------+--------+------+-------+----------+\n",
      "|       XGboost        | 0.3148 | 0.24 | 0.32  |  0.2638  |\n",
      "+----------------------+--------+------+-------+----------+\n",
      "|    Decision Tree     | 0.4175 | 0.32 | -0.19 |  -0.2883 |\n",
      "+----------------------+--------+------+-------+----------+\n"
     ]
    }
   ],
   "source": [
    "#creat table\n",
    "import texttable\n",
    "tableObj = texttable.Texttable(0) \n",
    "tableObj.set_cols_align([\"c\", \"c\", \"c\", \"c\",\"c\"]) \n",
    "tableObj.set_cols_dtype([\"t\", \"t\", \"t\", \"t\",\"t\"]) \n",
    "\n",
    "tableObj.set_cols_valign([\"m\", \"m\", \"m\", \"m\",\"m\"]) \n",
    "\n",
    "tableObj.add_rows([ \n",
    "        [\"Model\", \"RMSE\", \"MAE\", \"R2\", \"Accuracy\"], \n",
    "        [\"Linear Regression\", \"0.3769\", \"0.26\", '0.03', '0.0288'], \n",
    "        [\"Polinominal\", \"0.3769\", \"0.26\", '0.03', '0.0288'], \n",
    "        [\"Polinominal & Linear\", \"0.3769\", \"0.26\", '0.03', '0.0288'], \n",
    "        [\"XGboost\", \"0.3148\", \"0.24\", '0.32', '0.2638'], \n",
    "        [\"Decision Tree\", \"0.4175\", \"0.32\", '-0.19', ' -0.2883'] \n",
    "        ]) \n",
    "\n",
    "print(tableObj.draw()) "
   ]
  },
  {
   "cell_type": "markdown",
   "metadata": {},
   "source": [
    "According to the result, it is clear that XGboost is the suitable model for the prediction of avg rating of the dataset. The model has been chosen by low RMSE, MAE score and significantly higher in R2 score compared to the others."
   ]
  },
  {
   "cell_type": "markdown",
   "metadata": {},
   "source": [
    "<H3> 5. Save/Load model and prediction"
   ]
  },
  {
   "cell_type": "markdown",
   "metadata": {},
   "source": [
    "<b>Save/Load model"
   ]
  },
  {
   "cell_type": "code",
   "execution_count": 99,
   "metadata": {},
   "outputs": [],
   "source": [
    "import joblib"
   ]
  },
  {
   "cell_type": "code",
   "execution_count": 100,
   "metadata": {},
   "outputs": [
    {
     "name": "stdout",
     "output_type": "stream",
     "text": [
      "Wall time: 74.8 ms\n"
     ]
    }
   ],
   "source": [
    "%%time\n",
    "# save model using joblib\n",
    "joblib.dump(model, 'xgb_model.pkl') \n",
    "# Load the model\n",
    "load_model = joblib.load('xgb_model.pkl')"
   ]
  },
  {
   "cell_type": "code",
   "execution_count": 101,
   "metadata": {},
   "outputs": [],
   "source": [
    "Xtest = X2.filter(['series', 'review_count', 'rating_count'])"
   ]
  },
  {
   "cell_type": "code",
   "execution_count": 102,
   "metadata": {},
   "outputs": [],
   "source": [
    "result = load_model.score(Xtest,y2)"
   ]
  },
  {
   "cell_type": "code",
   "execution_count": 103,
   "metadata": {},
   "outputs": [
    {
     "name": "stdout",
     "output_type": "stream",
     "text": [
      "-1.1913996845122554\n"
     ]
    }
   ],
   "source": [
    "print(result)"
   ]
  },
  {
   "cell_type": "code",
   "execution_count": 104,
   "metadata": {},
   "outputs": [],
   "source": [
    "Y_predict = load_model.predict(Xtest)"
   ]
  },
  {
   "cell_type": "code",
   "execution_count": 105,
   "metadata": {},
   "outputs": [
    {
     "name": "stdout",
     "output_type": "stream",
     "text": [
      "Root Mean Squared Error (RMSE): 2.1168\n",
      "R_squared: -1.19\n",
      "Mean absolute error (MAE): 1.74\n"
     ]
    }
   ],
   "source": [
    "# The mean squared error\n",
    "print('Root Mean Squared Error (RMSE): %.4f' \n",
    "      % np.sqrt(metrics.mean_squared_error(y2, Y_predict)))\n",
    "# The coefficient of determination: 1 is perfect prediction\n",
    "print('R_squared: %.2f'\n",
    "      % metrics.r2_score(y2,Y_predict))\n",
    "# The mean absolute error - MAE\n",
    "print('Mean absolute error (MAE): %.2f'\n",
    "      % metrics.mean_absolute_error(y2,Y_predict))"
   ]
  },
  {
   "cell_type": "markdown",
   "metadata": {},
   "source": [
    "<b> Export result"
   ]
  },
  {
   "cell_type": "code",
   "execution_count": 106,
   "metadata": {},
   "outputs": [],
   "source": [
    "predictionId =np.array(y_test[\"id\"]).astype(int)"
   ]
  },
  {
   "cell_type": "code",
   "execution_count": 107,
   "metadata": {},
   "outputs": [],
   "source": [
    "submission = pd.DataFrame({'id':predictionId,'average_rating':Y_predict})"
   ]
  },
  {
   "cell_type": "code",
   "execution_count": 108,
   "metadata": {},
   "outputs": [
    {
     "data": {
      "text/html": [
       "<div>\n",
       "<style scoped>\n",
       "    .dataframe tbody tr th:only-of-type {\n",
       "        vertical-align: middle;\n",
       "    }\n",
       "\n",
       "    .dataframe tbody tr th {\n",
       "        vertical-align: top;\n",
       "    }\n",
       "\n",
       "    .dataframe thead th {\n",
       "        text-align: right;\n",
       "    }\n",
       "</style>\n",
       "<table border=\"1\" class=\"dataframe\">\n",
       "  <thead>\n",
       "    <tr style=\"text-align: right;\">\n",
       "      <th></th>\n",
       "      <th>id</th>\n",
       "      <th>average_rating</th>\n",
       "    </tr>\n",
       "  </thead>\n",
       "  <tbody>\n",
       "    <tr>\n",
       "      <th>0</th>\n",
       "      <td>6333213</td>\n",
       "      <td>3.984224</td>\n",
       "    </tr>\n",
       "    <tr>\n",
       "      <th>1</th>\n",
       "      <td>493553</td>\n",
       "      <td>3.965298</td>\n",
       "    </tr>\n",
       "    <tr>\n",
       "      <th>2</th>\n",
       "      <td>25574766</td>\n",
       "      <td>3.925976</td>\n",
       "    </tr>\n",
       "    <tr>\n",
       "      <th>3</th>\n",
       "      <td>133411</td>\n",
       "      <td>3.965045</td>\n",
       "    </tr>\n",
       "    <tr>\n",
       "      <th>4</th>\n",
       "      <td>64279</td>\n",
       "      <td>4.134961</td>\n",
       "    </tr>\n",
       "  </tbody>\n",
       "</table>\n",
       "</div>"
      ],
      "text/plain": [
       "         id  average_rating\n",
       "0   6333213        3.984224\n",
       "1    493553        3.965298\n",
       "2  25574766        3.925976\n",
       "3    133411        3.965045\n",
       "4     64279        4.134961"
      ]
     },
     "execution_count": 108,
     "metadata": {},
     "output_type": "execute_result"
    }
   ],
   "source": [
    "submission.head()"
   ]
  },
  {
   "cell_type": "code",
   "execution_count": 109,
   "metadata": {},
   "outputs": [
    {
     "name": "stdout",
     "output_type": "stream",
     "text": [
      "Saved file: bookratingsubmission.csv\n"
     ]
    }
   ],
   "source": [
    "#Convert DataFrame to a csv file that can be uploaded\n",
    "filename = 'bookratingsubmission.csv'\n",
    "\n",
    "submission.to_csv(filename,index=False)\n",
    "\n",
    "print('Saved file: ' + filename)"
   ]
  },
  {
   "cell_type": "markdown",
   "metadata": {},
   "source": [
    "<H3> Reference"
   ]
  },
  {
   "cell_type": "markdown",
   "metadata": {},
   "source": [
    "1. Data School 2020, Selecting the best model in scikit-learn using cross-validation, video recording, Youtube database, <https://www.youtube.com/watch?v=6dbrR-WymjI&list=PL5-da3qGB5ICeMbQuqbbCOQWcS6OYBr5A&index=7>.\n",
    "\n",
    "2. PhD and Productivity 2020, Introduction to kNN: k Nearest Neighbors Classification and Regression in Python Using scikit-learn, video recording, Youtube database, <https://www.youtube.com/watch?v=SDSC4yLLBKM&feature=youtu.be>.\n",
    "\n",
    "3. Yen Nhi, V n.d, 'Practical Data Sience ', course note for COSC2789, RMIT Vietnam, Saigon South Campus.\n"
   ]
  },
  {
   "cell_type": "code",
   "execution_count": null,
   "metadata": {},
   "outputs": [],
   "source": []
  }
 ],
 "metadata": {
  "kernelspec": {
   "display_name": "Python 3",
   "language": "python",
   "name": "python3"
  },
  "language_info": {
   "codemirror_mode": {
    "name": "ipython",
    "version": 3
   },
   "file_extension": ".py",
   "mimetype": "text/x-python",
   "name": "python",
   "nbconvert_exporter": "python",
   "pygments_lexer": "ipython3",
   "version": "3.8.7"
  }
 },
 "nbformat": 4,
 "nbformat_minor": 4
}
