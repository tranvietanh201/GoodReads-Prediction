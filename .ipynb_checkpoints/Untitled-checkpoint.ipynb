{
 "cells": [
  {
   "cell_type": "code",
   "execution_count": 99,
   "metadata": {},
   "outputs": [],
   "source": [
    "import numpy as np\n",
    "import pandas as pd\n",
    "import matplotlib.pyplot as plt\n",
    "np.random.seed(0)"
   ]
  },
  {
   "cell_type": "code",
   "execution_count": 100,
   "metadata": {},
   "outputs": [],
   "source": [
    "#import dataset\n",
    "test_df = 'X_test.csv'\n",
    "train_df = 'X_train.csv'\n",
    "df1 = pd.read_csv(test_df, sep=',', encoding = 'utf-8')\n",
    "df2 = pd.read_csv(train_df,sep=',', encoding = 'utf-8')"
   ]
  },
  {
   "cell_type": "code",
   "execution_count": 101,
   "metadata": {},
   "outputs": [
    {
     "data": {
      "text/html": [
       "<div>\n",
       "<style scoped>\n",
       "    .dataframe tbody tr th:only-of-type {\n",
       "        vertical-align: middle;\n",
       "    }\n",
       "\n",
       "    .dataframe tbody tr th {\n",
       "        vertical-align: top;\n",
       "    }\n",
       "\n",
       "    .dataframe thead th {\n",
       "        text-align: right;\n",
       "    }\n",
       "</style>\n",
       "<table border=\"1\" class=\"dataframe\">\n",
       "  <thead>\n",
       "    <tr style=\"text-align: right;\">\n",
       "      <th></th>\n",
       "      <th>id</th>\n",
       "      <th>title</th>\n",
       "      <th>link</th>\n",
       "      <th>series</th>\n",
       "      <th>cover_link</th>\n",
       "      <th>author</th>\n",
       "      <th>author_link</th>\n",
       "      <th>rating_count</th>\n",
       "      <th>review_count</th>\n",
       "      <th>number_of_pages</th>\n",
       "      <th>...</th>\n",
       "      <th>isbn13</th>\n",
       "      <th>asin</th>\n",
       "      <th>settings</th>\n",
       "      <th>characters</th>\n",
       "      <th>awards</th>\n",
       "      <th>amazon_redirect_link</th>\n",
       "      <th>worldcat_redirect_link</th>\n",
       "      <th>recommended_books</th>\n",
       "      <th>books_in_series</th>\n",
       "      <th>description</th>\n",
       "    </tr>\n",
       "  </thead>\n",
       "  <tbody>\n",
       "    <tr>\n",
       "      <th>0</th>\n",
       "      <td>6333213</td>\n",
       "      <td>The Way of the Bow</td>\n",
       "      <td>https://www.goodreads.com//book/show/6333213-t...</td>\n",
       "      <td>NaN</td>\n",
       "      <td>https://i.gr-assets.com/images/S/compressed.ph...</td>\n",
       "      <td>Paulo Coelho</td>\n",
       "      <td>https://www.goodreads.com/author/show/566.Paul...</td>\n",
       "      <td>2179</td>\n",
       "      <td>180</td>\n",
       "      <td>76.0</td>\n",
       "      <td>...</td>\n",
       "      <td>9.780557e+12</td>\n",
       "      <td>NaN</td>\n",
       "      <td>NaN</td>\n",
       "      <td>NaN</td>\n",
       "      <td>NaN</td>\n",
       "      <td>https://www.goodreads.com//book_link/follow/17...</td>\n",
       "      <td>https://www.goodreads.com//book_link/follow/8?...</td>\n",
       "      <td>52049749, 52049749, 9242583, 50058600, 1194740...</td>\n",
       "      <td>NaN</td>\n",
       "      <td>âThe Way of the Bowâ relates the story of ...</td>\n",
       "    </tr>\n",
       "    <tr>\n",
       "      <th>1</th>\n",
       "      <td>493553</td>\n",
       "      <td>The Silver Child</td>\n",
       "      <td>https://www.goodreads.com//book/show/493553.Th...</td>\n",
       "      <td>(Silver Sequence #1)</td>\n",
       "      <td>https://i.gr-assets.com/images/S/compressed.ph...</td>\n",
       "      <td>Cliff McNish</td>\n",
       "      <td>https://www.goodreads.com/author/show/27813.Cl...</td>\n",
       "      <td>874</td>\n",
       "      <td>84</td>\n",
       "      <td>192.0</td>\n",
       "      <td>...</td>\n",
       "      <td>9.780823e+12</td>\n",
       "      <td>NaN</td>\n",
       "      <td>NaN</td>\n",
       "      <td>NaN</td>\n",
       "      <td>NaN</td>\n",
       "      <td>https://www.goodreads.com//book_link/follow/17...</td>\n",
       "      <td>https://www.goodreads.com//book_link/follow/8?...</td>\n",
       "      <td>13542616, 13542616, 13274082, 16072988, 58085,...</td>\n",
       "      <td>36448526, 36448541</td>\n",
       "      <td>Six children leave the comfort of their homes....</td>\n",
       "    </tr>\n",
       "    <tr>\n",
       "      <th>2</th>\n",
       "      <td>25574766</td>\n",
       "      <td>Il ladro di nebbia</td>\n",
       "      <td>https://www.goodreads.com//book/show/25574766-...</td>\n",
       "      <td>NaN</td>\n",
       "      <td>https://i.gr-assets.com/images/S/compressed.ph...</td>\n",
       "      <td>Lavinia Petti</td>\n",
       "      <td>https://www.goodreads.com/author/show/14006459...</td>\n",
       "      <td>219</td>\n",
       "      <td>36</td>\n",
       "      <td>412.0</td>\n",
       "      <td>...</td>\n",
       "      <td>NaN</td>\n",
       "      <td>B00WX990QQ</td>\n",
       "      <td>NaN</td>\n",
       "      <td>NaN</td>\n",
       "      <td>NaN</td>\n",
       "      <td>https://www.goodreads.com//book_link/follow/1?...</td>\n",
       "      <td>https://www.goodreads.com//book_link/follow/8?...</td>\n",
       "      <td>9707981, 9707981, 52331839, 25663617, 22027260...</td>\n",
       "      <td>NaN</td>\n",
       "      <td>Antonio M. Fonte Ã¨ uno scrittore di enorme su...</td>\n",
       "    </tr>\n",
       "    <tr>\n",
       "      <th>3</th>\n",
       "      <td>133411</td>\n",
       "      <td>Gods, Graves and Scholars: The Story of Archae...</td>\n",
       "      <td>https://www.goodreads.com//book/show/133411.Go...</td>\n",
       "      <td>NaN</td>\n",
       "      <td>https://i.gr-assets.com/images/S/compressed.ph...</td>\n",
       "      <td>C.W. Ceram, Sophie Wilkins, E.B. Garside</td>\n",
       "      <td>https://www.goodreads.com/author/show/4651612....</td>\n",
       "      <td>1834</td>\n",
       "      <td>145</td>\n",
       "      <td>536.0</td>\n",
       "      <td>...</td>\n",
       "      <td>9.780395e+12</td>\n",
       "      <td>NaN</td>\n",
       "      <td>NaN</td>\n",
       "      <td>NaN</td>\n",
       "      <td>NaN</td>\n",
       "      <td>https://www.goodreads.com//book_link/follow/17...</td>\n",
       "      <td>https://www.goodreads.com//book_link/follow/8?...</td>\n",
       "      <td>935992, 935992, 23487060, 189589, 883503, 9611...</td>\n",
       "      <td>NaN</td>\n",
       "      <td>C.W. Ceram visualized archeology as a wonderfu...</td>\n",
       "    </tr>\n",
       "    <tr>\n",
       "      <th>4</th>\n",
       "      <td>64279</td>\n",
       "      <td>Heaven and Hell</td>\n",
       "      <td>https://www.goodreads.com//book/show/64279.Hea...</td>\n",
       "      <td>(North and South #3)</td>\n",
       "      <td>https://i.gr-assets.com/images/S/compressed.ph...</td>\n",
       "      <td>John Jakes</td>\n",
       "      <td>https://www.goodreads.com/author/show/5768.Joh...</td>\n",
       "      <td>10369</td>\n",
       "      <td>222</td>\n",
       "      <td>781.0</td>\n",
       "      <td>...</td>\n",
       "      <td>9.780451e+12</td>\n",
       "      <td>NaN</td>\n",
       "      <td>NaN</td>\n",
       "      <td>NaN</td>\n",
       "      <td>NaN</td>\n",
       "      <td>https://www.goodreads.com//book_link/follow/17...</td>\n",
       "      <td>https://www.goodreads.com//book_link/follow/8?...</td>\n",
       "      <td>73062, 73062, 8716, 65959, 891922, 1503274, 16...</td>\n",
       "      <td>159178, 159177</td>\n",
       "      <td>The last days of the Civil War bring no peace ...</td>\n",
       "    </tr>\n",
       "  </tbody>\n",
       "</table>\n",
       "<p>5 rows × 25 columns</p>\n",
       "</div>"
      ],
      "text/plain": [
       "         id                                              title  \\\n",
       "0   6333213                                 The Way of the Bow   \n",
       "1    493553                                   The Silver Child   \n",
       "2  25574766                                 Il ladro di nebbia   \n",
       "3    133411  Gods, Graves and Scholars: The Story of Archae...   \n",
       "4     64279                                    Heaven and Hell   \n",
       "\n",
       "                                                link                series  \\\n",
       "0  https://www.goodreads.com//book/show/6333213-t...                   NaN   \n",
       "1  https://www.goodreads.com//book/show/493553.Th...  (Silver Sequence #1)   \n",
       "2  https://www.goodreads.com//book/show/25574766-...                   NaN   \n",
       "3  https://www.goodreads.com//book/show/133411.Go...                   NaN   \n",
       "4  https://www.goodreads.com//book/show/64279.Hea...  (North and South #3)   \n",
       "\n",
       "                                          cover_link  \\\n",
       "0  https://i.gr-assets.com/images/S/compressed.ph...   \n",
       "1  https://i.gr-assets.com/images/S/compressed.ph...   \n",
       "2  https://i.gr-assets.com/images/S/compressed.ph...   \n",
       "3  https://i.gr-assets.com/images/S/compressed.ph...   \n",
       "4  https://i.gr-assets.com/images/S/compressed.ph...   \n",
       "\n",
       "                                     author  \\\n",
       "0                              Paulo Coelho   \n",
       "1                              Cliff McNish   \n",
       "2                             Lavinia Petti   \n",
       "3  C.W. Ceram, Sophie Wilkins, E.B. Garside   \n",
       "4                                John Jakes   \n",
       "\n",
       "                                         author_link  rating_count  \\\n",
       "0  https://www.goodreads.com/author/show/566.Paul...          2179   \n",
       "1  https://www.goodreads.com/author/show/27813.Cl...           874   \n",
       "2  https://www.goodreads.com/author/show/14006459...           219   \n",
       "3  https://www.goodreads.com/author/show/4651612....          1834   \n",
       "4  https://www.goodreads.com/author/show/5768.Joh...         10369   \n",
       "\n",
       "   review_count  number_of_pages  ...        isbn13        asin settings  \\\n",
       "0           180             76.0  ...  9.780557e+12         NaN      NaN   \n",
       "1            84            192.0  ...  9.780823e+12         NaN      NaN   \n",
       "2            36            412.0  ...           NaN  B00WX990QQ      NaN   \n",
       "3           145            536.0  ...  9.780395e+12         NaN      NaN   \n",
       "4           222            781.0  ...  9.780451e+12         NaN      NaN   \n",
       "\n",
       "  characters awards                               amazon_redirect_link  \\\n",
       "0        NaN    NaN  https://www.goodreads.com//book_link/follow/17...   \n",
       "1        NaN    NaN  https://www.goodreads.com//book_link/follow/17...   \n",
       "2        NaN    NaN  https://www.goodreads.com//book_link/follow/1?...   \n",
       "3        NaN    NaN  https://www.goodreads.com//book_link/follow/17...   \n",
       "4        NaN    NaN  https://www.goodreads.com//book_link/follow/17...   \n",
       "\n",
       "                              worldcat_redirect_link  \\\n",
       "0  https://www.goodreads.com//book_link/follow/8?...   \n",
       "1  https://www.goodreads.com//book_link/follow/8?...   \n",
       "2  https://www.goodreads.com//book_link/follow/8?...   \n",
       "3  https://www.goodreads.com//book_link/follow/8?...   \n",
       "4  https://www.goodreads.com//book_link/follow/8?...   \n",
       "\n",
       "                                   recommended_books     books_in_series  \\\n",
       "0  52049749, 52049749, 9242583, 50058600, 1194740...                 NaN   \n",
       "1  13542616, 13542616, 13274082, 16072988, 58085,...  36448526, 36448541   \n",
       "2  9707981, 9707981, 52331839, 25663617, 22027260...                 NaN   \n",
       "3  935992, 935992, 23487060, 189589, 883503, 9611...                 NaN   \n",
       "4  73062, 73062, 8716, 65959, 891922, 1503274, 16...      159178, 159177   \n",
       "\n",
       "                                         description  \n",
       "0  âThe Way of the Bowâ relates the story of ...  \n",
       "1  Six children leave the comfort of their homes....  \n",
       "2  Antonio M. Fonte Ã¨ uno scrittore di enorme su...  \n",
       "3  C.W. Ceram visualized archeology as a wonderfu...  \n",
       "4  The last days of the Civil War bring no peace ...  \n",
       "\n",
       "[5 rows x 25 columns]"
      ]
     },
     "execution_count": 101,
     "metadata": {},
     "output_type": "execute_result"
    }
   ],
   "source": [
    "df1.head()"
   ]
  },
  {
   "cell_type": "code",
   "execution_count": 102,
   "metadata": {},
   "outputs": [
    {
     "name": "stdout",
     "output_type": "stream",
     "text": [
      "<class 'pandas.core.frame.DataFrame'>\n",
      "RangeIndex: 10440 entries, 0 to 10439\n",
      "Data columns (total 25 columns):\n",
      " #   Column                  Non-Null Count  Dtype  \n",
      "---  ------                  --------------  -----  \n",
      " 0   id                      10440 non-null  int64  \n",
      " 1   title                   10440 non-null  object \n",
      " 2   link                    10440 non-null  object \n",
      " 3   series                  4672 non-null   object \n",
      " 4   cover_link              10319 non-null  object \n",
      " 5   author                  10440 non-null  object \n",
      " 6   author_link             10440 non-null  object \n",
      " 7   rating_count            10440 non-null  int64  \n",
      " 8   review_count            10440 non-null  int64  \n",
      " 9   number_of_pages         9983 non-null   float64\n",
      " 10  date_published          10268 non-null  object \n",
      " 11  publisher               9697 non-null   object \n",
      " 12  original_title          7787 non-null   object \n",
      " 13  genre_and_votes         9838 non-null   object \n",
      " 14  isbn                    8032 non-null   object \n",
      " 15  isbn13                  7847 non-null   float64\n",
      " 16  asin                    1082 non-null   object \n",
      " 17  settings                2229 non-null   object \n",
      " 18  characters              2718 non-null   object \n",
      " 19  awards                  2123 non-null   object \n",
      " 20  amazon_redirect_link    10440 non-null  object \n",
      " 21  worldcat_redirect_link  9658 non-null   object \n",
      " 22  recommended_books       9597 non-null   object \n",
      " 23  books_in_series         4415 non-null   object \n",
      " 24  description             9936 non-null   object \n",
      "dtypes: float64(2), int64(3), object(20)\n",
      "memory usage: 2.0+ MB\n"
     ]
    }
   ],
   "source": [
    "df1.info()"
   ]
  },
  {
   "cell_type": "code",
   "execution_count": null,
   "metadata": {},
   "outputs": [],
   "source": []
  },
  {
   "cell_type": "code",
   "execution_count": 103,
   "metadata": {},
   "outputs": [
    {
     "name": "stdout",
     "output_type": "stream",
     "text": [
      "<class 'pandas.core.frame.DataFrame'>\n",
      "RangeIndex: 10440 entries, 0 to 10439\n",
      "Data columns (total 25 columns):\n",
      " #   Column                  Non-Null Count  Dtype  \n",
      "---  ------                  --------------  -----  \n",
      " 0   id                      10440 non-null  int64  \n",
      " 1   title                   10440 non-null  object \n",
      " 2   link                    10440 non-null  object \n",
      " 3   series                  4672 non-null   object \n",
      " 4   cover_link              10319 non-null  object \n",
      " 5   author                  10440 non-null  object \n",
      " 6   author_link             10440 non-null  object \n",
      " 7   rating_count            10440 non-null  int64  \n",
      " 8   review_count            10440 non-null  int64  \n",
      " 9   number_of_pages         9983 non-null   float64\n",
      " 10  date_published          10268 non-null  object \n",
      " 11  publisher               9697 non-null   object \n",
      " 12  original_title          7787 non-null   object \n",
      " 13  genre_and_votes         9838 non-null   object \n",
      " 14  isbn                    8032 non-null   object \n",
      " 15  isbn13                  7847 non-null   float64\n",
      " 16  asin                    1082 non-null   object \n",
      " 17  settings                2229 non-null   object \n",
      " 18  characters              2718 non-null   object \n",
      " 19  awards                  2123 non-null   object \n",
      " 20  amazon_redirect_link    10440 non-null  object \n",
      " 21  worldcat_redirect_link  9658 non-null   object \n",
      " 22  recommended_books       9597 non-null   object \n",
      " 23  books_in_series         4415 non-null   object \n",
      " 24  description             9936 non-null   object \n",
      "dtypes: float64(2), int64(3), object(20)\n",
      "memory usage: 2.0+ MB\n"
     ]
    }
   ],
   "source": [
    "df1.info()"
   ]
  },
  {
   "cell_type": "code",
   "execution_count": 104,
   "metadata": {},
   "outputs": [],
   "source": [
    "#Deal with Upper/lower case:\n",
    "def convert_str():\n",
    "    for i in df1: # Loop through imported data\n",
    "        if df1[i].dtype == \"object\": # Get all text value\n",
    "            df1[i] = df1[i].str.upper() # Convert string value into upper case letters\n",
    "convert_str()"
   ]
  },
  {
   "cell_type": "code",
   "execution_count": 105,
   "metadata": {},
   "outputs": [],
   "source": [
    "#Deal With Extra White Spaces:\n",
    "def remove_whitespace():\n",
    "    for i in df1: # Loop through the data\n",
    "        if df1[i].dtype == \"object\": # Get object type values\n",
    "            df1[i] = df1[i].str.strip() # Return the string without redundant whitespaces\n",
    "            \n",
    "remove_whitespace()"
   ]
  },
  {
   "cell_type": "code",
   "execution_count": 106,
   "metadata": {},
   "outputs": [
    {
     "data": {
      "text/plain": [
       "id                           0\n",
       "title                        0\n",
       "link                         0\n",
       "series                    5768\n",
       "cover_link                 121\n",
       "author                       0\n",
       "author_link                  0\n",
       "rating_count                 0\n",
       "review_count                 0\n",
       "number_of_pages            457\n",
       "date_published             172\n",
       "publisher                  743\n",
       "original_title            2653\n",
       "genre_and_votes            602\n",
       "isbn                      2408\n",
       "isbn13                    2593\n",
       "asin                      9358\n",
       "settings                  8211\n",
       "characters                7722\n",
       "awards                    8317\n",
       "amazon_redirect_link         0\n",
       "worldcat_redirect_link     782\n",
       "recommended_books          843\n",
       "books_in_series           6025\n",
       "description                504\n",
       "dtype: int64"
      ]
     },
     "execution_count": 106,
     "metadata": {},
     "output_type": "execute_result"
    }
   ],
   "source": [
    "# check na\n",
    "df1.isna().sum()"
   ]
  },
  {
   "cell_type": "code",
   "execution_count": 107,
   "metadata": {},
   "outputs": [
    {
     "data": {
      "text/html": [
       "<div>\n",
       "<style scoped>\n",
       "    .dataframe tbody tr th:only-of-type {\n",
       "        vertical-align: middle;\n",
       "    }\n",
       "\n",
       "    .dataframe tbody tr th {\n",
       "        vertical-align: top;\n",
       "    }\n",
       "\n",
       "    .dataframe thead th {\n",
       "        text-align: right;\n",
       "    }\n",
       "</style>\n",
       "<table border=\"1\" class=\"dataframe\">\n",
       "  <thead>\n",
       "    <tr style=\"text-align: right;\">\n",
       "      <th></th>\n",
       "      <th>id</th>\n",
       "      <th>rating_count</th>\n",
       "      <th>review_count</th>\n",
       "      <th>number_of_pages</th>\n",
       "      <th>isbn13</th>\n",
       "    </tr>\n",
       "  </thead>\n",
       "  <tbody>\n",
       "    <tr>\n",
       "      <th>count</th>\n",
       "      <td>1.044000e+04</td>\n",
       "      <td>1.044000e+04</td>\n",
       "      <td>10440.000000</td>\n",
       "      <td>9983.000000</td>\n",
       "      <td>7.847000e+03</td>\n",
       "    </tr>\n",
       "    <tr>\n",
       "      <th>mean</th>\n",
       "      <td>1.026734e+07</td>\n",
       "      <td>1.862243e+04</td>\n",
       "      <td>1017.657375</td>\n",
       "      <td>327.251227</td>\n",
       "      <td>9.773283e+12</td>\n",
       "    </tr>\n",
       "    <tr>\n",
       "      <th>std</th>\n",
       "      <td>1.172926e+07</td>\n",
       "      <td>9.869185e+04</td>\n",
       "      <td>3742.071556</td>\n",
       "      <td>259.859422</td>\n",
       "      <td>2.722149e+11</td>\n",
       "    </tr>\n",
       "    <tr>\n",
       "      <th>min</th>\n",
       "      <td>6.000000e+00</td>\n",
       "      <td>0.000000e+00</td>\n",
       "      <td>0.000000</td>\n",
       "      <td>0.000000</td>\n",
       "      <td>9.780616e+09</td>\n",
       "    </tr>\n",
       "    <tr>\n",
       "      <th>25%</th>\n",
       "      <td>3.583035e+05</td>\n",
       "      <td>3.210000e+02</td>\n",
       "      <td>30.000000</td>\n",
       "      <td>209.000000</td>\n",
       "      <td>9.780385e+12</td>\n",
       "    </tr>\n",
       "    <tr>\n",
       "      <th>50%</th>\n",
       "      <td>6.441912e+06</td>\n",
       "      <td>2.285000e+03</td>\n",
       "      <td>159.000000</td>\n",
       "      <td>304.000000</td>\n",
       "      <td>9.780747e+12</td>\n",
       "    </tr>\n",
       "    <tr>\n",
       "      <th>75%</th>\n",
       "      <td>1.741248e+07</td>\n",
       "      <td>9.400250e+03</td>\n",
       "      <td>607.250000</td>\n",
       "      <td>390.000000</td>\n",
       "      <td>9.781479e+12</td>\n",
       "    </tr>\n",
       "    <tr>\n",
       "      <th>max</th>\n",
       "      <td>5.398436e+07</td>\n",
       "      <td>2.905122e+06</td>\n",
       "      <td>102547.000000</td>\n",
       "      <td>14777.000000</td>\n",
       "      <td>9.978069e+12</td>\n",
       "    </tr>\n",
       "  </tbody>\n",
       "</table>\n",
       "</div>"
      ],
      "text/plain": [
       "                 id  rating_count   review_count  number_of_pages  \\\n",
       "count  1.044000e+04  1.044000e+04   10440.000000      9983.000000   \n",
       "mean   1.026734e+07  1.862243e+04    1017.657375       327.251227   \n",
       "std    1.172926e+07  9.869185e+04    3742.071556       259.859422   \n",
       "min    6.000000e+00  0.000000e+00       0.000000         0.000000   \n",
       "25%    3.583035e+05  3.210000e+02      30.000000       209.000000   \n",
       "50%    6.441912e+06  2.285000e+03     159.000000       304.000000   \n",
       "75%    1.741248e+07  9.400250e+03     607.250000       390.000000   \n",
       "max    5.398436e+07  2.905122e+06  102547.000000     14777.000000   \n",
       "\n",
       "             isbn13  \n",
       "count  7.847000e+03  \n",
       "mean   9.773283e+12  \n",
       "std    2.722149e+11  \n",
       "min    9.780616e+09  \n",
       "25%    9.780385e+12  \n",
       "50%    9.780747e+12  \n",
       "75%    9.781479e+12  \n",
       "max    9.978069e+12  "
      ]
     },
     "execution_count": 107,
     "metadata": {},
     "output_type": "execute_result"
    }
   ],
   "source": [
    "df1.describe()"
   ]
  },
  {
   "cell_type": "code",
   "execution_count": 108,
   "metadata": {},
   "outputs": [],
   "source": [
    "import seaborn as sns"
   ]
  },
  {
   "cell_type": "code",
   "execution_count": 109,
   "metadata": {},
   "outputs": [
    {
     "data": {
      "text/plain": [
       "<seaborn.axisgrid.FacetGrid at 0x262d0083850>"
      ]
     },
     "execution_count": 109,
     "metadata": {},
     "output_type": "execute_result"
    },
    {
     "data": {
      "text/plain": [
       "<Figure size 1800x720 with 0 Axes>"
      ]
     },
     "metadata": {},
     "output_type": "display_data"
    },
    {
     "data": {
      "image/png": "[encoded data removed]",
      "text/plain": [
       "<Figure size 360x360 with 1 Axes>"
      ]
     },
     "metadata": {
      "needs_background": "light"
     },
     "output_type": "display_data"
    }
   ],
   "source": [
    "# Draw the graph\n",
    "plt.figure(figsize = (25,10))\n",
    "sns.displot(df1['review_count'])"
   ]
  },
  {
   "cell_type": "code",
   "execution_count": 110,
   "metadata": {},
   "outputs": [
    {
     "data": {
      "text/plain": [
       "<AxesSubplot:>"
      ]
     },
     "execution_count": 110,
     "metadata": {},
     "output_type": "execute_result"
    },
    {
     "data": {
      "image/png": "[encoded data removed]",
      "text/plain": [
       "<Figure size 432x288 with 1 Axes>"
      ]
     },
     "metadata": {
      "needs_background": "light"
     },
     "output_type": "display_data"
    }
   ],
   "source": [
    "df1.boxplot(column='number_of_pages', return_type='axes')"
   ]
  },
  {
   "cell_type": "code",
   "execution_count": 111,
   "metadata": {},
   "outputs": [
    {
     "name": "stdout",
     "output_type": "stream",
     "text": [
      "FICTION 1USER                                                                                                                                                                                       19\n",
      "FICTION 2                                                                                                                                                                                           13\n",
      "NONFICTION 1USER                                                                                                                                                                                    11\n",
      "CHILDRENS 1USER                                                                                                                                                                                     10\n",
      "ROMANCE 1USER                                                                                                                                                                                        9\n",
      "                                                                                                                                                                                                    ..\n",
      "FICTION 11, GLBT-QUEER 2, LGBT 1USER                                                                                                                                                                 1\n",
      "FANTASY-PARANORMAL 458, ROMANCE-PARANORMAL ROMANCE 376, ROMANCE 321, PARANORMAL-SHAPESHIFTERS 273                                                                                                    1\n",
      "PHILOSOPHY 2, REALISTIC FICTION 1USER                                                                                                                                                                1\n",
      "YOUNG ADULT 6547, SCIENCE FICTION-DYSTOPIA 5326, ROMANCE 3039, SCIENCE FICTION 1322, FICTION 1196, FANTASY 1192, YOUNG ADULT-TEEN 419, AUDIOBOOK 265, LOVE 209, APOCALYPTIC-POST APOCALYPTIC 207     1\n",
      "FANTASY-PARANORMAL 376, YOUNG ADULT 309, ROMANCE 296, FANTASY 201, ROMANCE-PARANORMAL ROMANCE 154                                                                                                    1\n",
      "Name: genre_and_votes, Length: 9605, dtype: int64\n"
     ]
    }
   ],
   "source": [
    "print(df1['genre_and_votes'].value_counts())"
   ]
  },
  {
   "cell_type": "code",
   "execution_count": 112,
   "metadata": {},
   "outputs": [],
   "source": [
    "df1['genre_and_votes'] = df1['genre_and_votes'].str.replace('American Hi...-','').str.replace(r'[^a-zA-Z0-9, ]', ' ')"
   ]
  },
  {
   "cell_type": "code",
   "execution_count": 113,
   "metadata": {},
   "outputs": [
    {
     "name": "stdout",
     "output_type": "stream",
     "text": [
      "FICTION 1USER                                                                                                                                                  19\n",
      "FICTION 2                                                                                                                                                      13\n",
      "NONFICTION 1USER                                                                                                                                               11\n",
      "CHILDRENS 1USER                                                                                                                                                10\n",
      "CHILDRENS 2                                                                                                                                                     9\n",
      "                                                                                                                                                               ..\n",
      "PSYCHOLOGY 21, SCIENCE 21                                                                                                                                       1\n",
      "FICTION 3761, CONTEMPORARY 543, MUSIC 518, SHORT STORIES 478, LITERARY FICTION 341, NOVELS 309, ADULT FICTION 236, LITERATURE 208, BOOK CLUB 202, ADULT 175     1\n",
      "FANTASY 92, FICTION 13, SCIENCE FICTION 12, SCIENCE FICTION FANTASY 5, FANTASY HIGH FANTASY 2                                                                   1\n",
      "MARRIAGE 185, CHRISTIAN 98, RELIGION THEOLOGY 66, NONFICTION 56, CHRISTIAN CHRISTIAN LIVING 47, RELATIONSHIPS 35, RELIGION CHRISTIANITY 34                      1\n",
      "YOUNG ADULT 594, FANTASY 378, HISTORICAL HISTORICAL FICTION 296, HORROR 213, HISTORICAL 129, FICTION 126                                                        1\n",
      "Name: genre_and_votes, Length: 9605, dtype: int64\n"
     ]
    }
   ],
   "source": [
    "print(df1['genre_and_votes'].value_counts())"
   ]
  },
  {
   "cell_type": "code",
   "execution_count": 114,
   "metadata": {},
   "outputs": [],
   "source": [
    "df1['genre_and_votes'] = df1['genre_and_votes'].str.replace('USER','')"
   ]
  },
  {
   "cell_type": "code",
   "execution_count": 115,
   "metadata": {},
   "outputs": [
    {
     "name": "stdout",
     "output_type": "stream",
     "text": [
      "FICTION 1                                                                                                                                               19\n",
      "FICTION 2                                                                                                                                               13\n",
      "NONFICTION 1                                                                                                                                            11\n",
      "CHILDRENS 1                                                                                                                                             10\n",
      "POETRY 1                                                                                                                                                 9\n",
      "                                                                                                                                                        ..\n",
      "FANTASY URBAN FANTASY 1122, FANTASY 694, FANTASY PARANORMAL 411, ROMANCE 210, FANTASY MAGIC 161, FICTION 156, ROMANCE PARANORMAL ROMANCE 125             1\n",
      "SCIENCE 310, NONFICTION 114, SCIENCE PHYSICS 81, SCIENCE MATHEMATICS 60, PHILOSOPHY 23, SCIENCE POPULAR SCIENCE 21                                       1\n",
      "FANTASY 39, CHILDRENS MIDDLE GRADE 11, CHILDRENS JUVENILE 7, FICTION 7, CHILDRENS 6, FANTASY UNICORNS 5                                                  1\n",
      "FICTION 368, NOVELS 71, CONTEMPORARY 60, CULTURAL SPAIN 48, POETRY 33, LITERATURE 31, LITERATURE AMERICAN 29, LITERARY FICTION 25, ART 14, TRAVEL 13     1\n",
      "YOUNG ADULT 594, FANTASY 378, HISTORICAL HISTORICAL FICTION 296, HORROR 213, HISTORICAL 129, FICTION 126                                                 1\n",
      "Name: genre_and_votes, Length: 9605, dtype: int64\n"
     ]
    }
   ],
   "source": [
    "print(df1['genre_and_votes'].value_counts())"
   ]
  },
  {
   "cell_type": "code",
   "execution_count": null,
   "metadata": {},
   "outputs": [],
   "source": []
  },
  {
   "cell_type": "code",
   "execution_count": null,
   "metadata": {},
   "outputs": [],
   "source": []
  },
  {
   "cell_type": "code",
   "execution_count": 116,
   "metadata": {},
   "outputs": [
    {
     "name": "stdout",
     "output_type": "stream",
     "text": [
      "NORA ROBERTS                  22\n",
      "AGATHA CHRISTIE               13\n",
      "L.J. SMITH                    12\n",
      "MEG CABOT                     12\n",
      "MERCEDES LACKEY               12\n",
      "                              ..\n",
      "KAMEL DAOUD, JOHN CULLEN       1\n",
      "PAUL KELLER                    1\n",
      "ALAN  WATT                     1\n",
      "ANDREA CHENG                   1\n",
      "MARIUSZ WILK, TOMASZ KIZNY     1\n",
      "Name: author, Length: 7880, dtype: int64\n"
     ]
    }
   ],
   "source": [
    "print(df1['author'].value_counts())"
   ]
  },
  {
   "cell_type": "code",
   "execution_count": 117,
   "metadata": {},
   "outputs": [
    {
     "name": "stdout",
     "output_type": "stream",
     "text": [
      "PERFECT                      4\n",
      "SELECTED POEMS               4\n",
      "HOME                         3\n",
      "LEGACY                       3\n",
      "FORBIDDEN                    3\n",
      "                            ..\n",
      "EL PERQUÃ¨ DE TOT PLEGAT     1\n",
      "BE STILL MY VAMPIRE HEART    1\n",
      "COOKIE                       1\n",
      "CIRCE                        1\n",
      "THE WARRIORS                 1\n",
      "Name: title, Length: 10291, dtype: int64\n"
     ]
    }
   ],
   "source": [
    "print(df1['title'].value_counts())"
   ]
  },
  {
   "cell_type": "code",
   "execution_count": 118,
   "metadata": {},
   "outputs": [
    {
     "name": "stdout",
     "output_type": "stream",
     "text": [
      "(STAR WARS LEGENDS)                  5\n",
      "(THE KNOWLEDGE)                      4\n",
      "(ÐÐ°Ð¼ÐΜÐ´Ð½Ð¸. ÐÐ°ÑÐ° ÑÑÐ°)    4\n",
      "(LOVE MEDICINE)                      3\n",
      "(STAR TREK: THE NEXT GENERATION)     2\n",
      "                                    ..\n",
      "(SURVIVING THE DREAM #1)             1\n",
      "(AGENTS UNDER FIRE #3)               1\n",
      "(THE HOLLOW #1)                      1\n",
      "(SOMEDAY ANGELINE #1)                1\n",
      "(DARK GUARDIAN #2)                   1\n",
      "Name: series, Length: 4627, dtype: int64\n"
     ]
    }
   ],
   "source": [
    "print(df1['series'].value_counts())"
   ]
  },
  {
   "cell_type": "code",
   "execution_count": 119,
   "metadata": {},
   "outputs": [],
   "source": [
    "df1[\"series\"] = df1['series'].str.replace('[^\\w\\s]','')"
   ]
  },
  {
   "cell_type": "code",
   "execution_count": 120,
   "metadata": {},
   "outputs": [
    {
     "name": "stdout",
     "output_type": "stream",
     "text": [
      "STAR WARS LEGENDS              5\n",
      "ÐÐÐ¼ÐΜÐÐ½Ð ÐÐÑÐ ÑÑÐ            4\n",
      "THE KNOWLEDGE                  4\n",
      "LOVE MEDICINE                  3\n",
      "CALVIN AND HOBBES              2\n",
      "                              ..\n",
      "ANGELS EVERYWHERE 1  3         1\n",
      "TIGER UND BÃR                  1\n",
      "THE RIYRIA CHRONICLES 2        1\n",
      "RIDERS OF THE PURPLE SAGE 1    1\n",
      "ÎÎÎÎ¹ Î ÎÏÎÎÎÎÎÎÎ¹ 2           1\n",
      "Name: series, Length: 4627, dtype: int64\n"
     ]
    }
   ],
   "source": [
    "print(df1['series'].value_counts())"
   ]
  },
  {
   "cell_type": "code",
   "execution_count": 121,
   "metadata": {},
   "outputs": [
    {
     "name": "stdout",
     "output_type": "stream",
     "text": [
      "2009                   91\n",
      "2006                   83\n",
      "2008                   83\n",
      "2003                   82\n",
      "2004                   81\n",
      "                       ..\n",
      "AUGUST 29TH 2005        1\n",
      "SEPTEMBER 24TH 2009     1\n",
      "MAY 13TH 2012           1\n",
      "JANUARY 17TH 2007       1\n",
      "JUNE 1951               1\n",
      "Name: date_published, Length: 3958, dtype: int64\n"
     ]
    }
   ],
   "source": [
    "print(df1['date_published'].value_counts())"
   ]
  },
  {
   "cell_type": "code",
   "execution_count": 122,
   "metadata": {},
   "outputs": [
    {
     "name": "stdout",
     "output_type": "stream",
     "text": [
      "<class 'pandas.core.frame.DataFrame'>\n",
      "RangeIndex: 10440 entries, 0 to 10439\n",
      "Data columns (total 25 columns):\n",
      " #   Column                  Non-Null Count  Dtype  \n",
      "---  ------                  --------------  -----  \n",
      " 0   id                      10440 non-null  int64  \n",
      " 1   title                   10440 non-null  object \n",
      " 2   link                    10440 non-null  object \n",
      " 3   series                  4672 non-null   object \n",
      " 4   cover_link              10319 non-null  object \n",
      " 5   author                  10440 non-null  object \n",
      " 6   author_link             10440 non-null  object \n",
      " 7   rating_count            10440 non-null  int64  \n",
      " 8   review_count            10440 non-null  int64  \n",
      " 9   number_of_pages         9983 non-null   float64\n",
      " 10  date_published          10268 non-null  object \n",
      " 11  publisher               9697 non-null   object \n",
      " 12  original_title          7787 non-null   object \n",
      " 13  genre_and_votes         9838 non-null   object \n",
      " 14  isbn                    8032 non-null   object \n",
      " 15  isbn13                  7847 non-null   float64\n",
      " 16  asin                    1082 non-null   object \n",
      " 17  settings                2229 non-null   object \n",
      " 18  characters              2718 non-null   object \n",
      " 19  awards                  2123 non-null   object \n",
      " 20  amazon_redirect_link    10440 non-null  object \n",
      " 21  worldcat_redirect_link  9658 non-null   object \n",
      " 22  recommended_books       9597 non-null   object \n",
      " 23  books_in_series         4415 non-null   object \n",
      " 24  description             9936 non-null   object \n",
      "dtypes: float64(2), int64(3), object(20)\n",
      "memory usage: 2.0+ MB\n"
     ]
    },
    {
     "data": {
      "text/plain": [
       "id                           0\n",
       "title                        0\n",
       "link                         0\n",
       "series                    5768\n",
       "cover_link                 121\n",
       "author                       0\n",
       "author_link                  0\n",
       "rating_count                 0\n",
       "review_count                 0\n",
       "number_of_pages            457\n",
       "date_published             172\n",
       "publisher                  743\n",
       "original_title            2653\n",
       "genre_and_votes            602\n",
       "isbn                      2408\n",
       "isbn13                    2593\n",
       "asin                      9358\n",
       "settings                  8211\n",
       "characters                7722\n",
       "awards                    8317\n",
       "amazon_redirect_link         0\n",
       "worldcat_redirect_link     782\n",
       "recommended_books          843\n",
       "books_in_series           6025\n",
       "description                504\n",
       "dtype: int64"
      ]
     },
     "execution_count": 122,
     "metadata": {},
     "output_type": "execute_result"
    }
   ],
   "source": [
    "df1.info()\n",
    "df1.isna().sum()"
   ]
  },
  {
   "cell_type": "code",
   "execution_count": 123,
   "metadata": {},
   "outputs": [
    {
     "name": "stdout",
     "output_type": "stream",
     "text": [
      "VINTAGE                                            115\n",
      "HARPERCOLLINS                                      111\n",
      "CREATESPACE INDEPENDENT PUBLISHING PLATFORM         96\n",
      "PENGUIN BOOKS                                       89\n",
      "BALLANTINE BOOKS                                    75\n",
      "                                                  ... \n",
      "GOLDMAN HOUSE PUBLISHING                             1\n",
      "MAINSTREAM PUBLISHING                                1\n",
      "MEGAN TINGLEY BOOKS - LITTLE, BROWN AND COMPANY      1\n",
      "ANGELA GRAHAM                                        1\n",
      "SIMON & SCHUSTER PUBLISHING                          1\n",
      "Name: publisher, Length: 3591, dtype: int64\n"
     ]
    }
   ],
   "source": [
    "print(df1['publisher'].value_counts())"
   ]
  },
  {
   "cell_type": "code",
   "execution_count": 124,
   "metadata": {},
   "outputs": [
    {
     "name": "stdout",
     "output_type": "stream",
     "text": [
      "PERFECT                                              3\n",
      "HIDE AND SEEK                                        3\n",
      "LEGACY                                               3\n",
      "THE COLLECTED STORIES                                3\n",
      "HOME                                                 3\n",
      "                                                    ..\n",
      "BRAM STOKER: A BIOGRAPHY OF THE AUTHOR OF DRACULA    1\n",
      "ON THE BANKS OF THE BAYOU (LITTLE HOUSE)             1\n",
      "Ë ¸Ë¸Ë Ì¤                                         1\n",
      "THE IDOLATRY OF GOD                                  1\n",
      "THE WARRIORS                                         1\n",
      "Name: original_title, Length: 7709, dtype: int64\n"
     ]
    }
   ],
   "source": [
    "print(df1['original_title'].value_counts())"
   ]
  },
  {
   "cell_type": "code",
   "execution_count": 125,
   "metadata": {},
   "outputs": [
    {
     "name": "stdout",
     "output_type": "stream",
     "text": [
      "B0818PTWSS    1\n",
      "B00HNG4AB4    1\n",
      "B00AHE246W    1\n",
      "2764409834    1\n",
      "B00N9Q9LVQ    1\n",
      "             ..\n",
      "B00SI7TQK2    1\n",
      "B07V1XJPS8    1\n",
      "B0071FAKUC    1\n",
      "B07VJ383S6    1\n",
      "B014MF29PC    1\n",
      "Name: asin, Length: 1082, dtype: int64\n"
     ]
    }
   ],
   "source": [
    "print(df1['asin'].value_counts())"
   ]
  },
  {
   "cell_type": "code",
   "execution_count": 126,
   "metadata": {},
   "outputs": [
    {
     "name": "stdout",
     "output_type": "stream",
     "text": [
      "0899571727    1\n",
      "0373277490    1\n",
      "055327094X    1\n",
      "1569714908    1\n",
      "193556238X    1\n",
      "             ..\n",
      "0062027875    1\n",
      "1599900572    1\n",
      "0865976309    1\n",
      "0684833395    1\n",
      "0140443878    1\n",
      "Name: isbn, Length: 8032, dtype: int64\n"
     ]
    }
   ],
   "source": [
    "print(df1['isbn'].value_counts())"
   ]
  },
  {
   "cell_type": "code",
   "execution_count": 127,
   "metadata": {},
   "outputs": [
    {
     "name": "stdout",
     "output_type": "stream",
     "text": [
      "9.780451e+12    1\n",
      "9.780376e+12    1\n",
      "9.781108e+12    1\n",
      "9.781439e+12    1\n",
      "9.781481e+12    1\n",
      "               ..\n",
      "9.780718e+12    1\n",
      "9.781583e+12    1\n",
      "9.781565e+12    1\n",
      "9.780062e+12    1\n",
      "9.781595e+12    1\n",
      "Name: isbn13, Length: 7847, dtype: int64\n"
     ]
    }
   ],
   "source": [
    "print(df1['isbn13'].value_counts())"
   ]
  },
  {
   "cell_type": "code",
   "execution_count": 128,
   "metadata": {},
   "outputs": [
    {
     "name": "stdout",
     "output_type": "stream",
     "text": [
      "CALVIN, HOBBES                                                    9\n",
      "DIRK PITT, AL GIORDINO                                            4\n",
      "JUNIE B. JONES                                                    4\n",
      "DRU ANDERSON, CHRISTOPHE REYNARD, GRAVES                          3\n",
      "INSPECTOR JOHN REBUS                                              3\n",
      "                                                                 ..\n",
      "GRIFFIN, KEMP                                                     1\n",
      "MAGNUS BANE, CAMILLE BELCOURT, CATARINA LOSS, RAPHAEL SANTIAGO    1\n",
      "JACK SAWYER, ANNA CORBETT                                         1\n",
      "RIA MILANEZ, ADRIAN LIANDRE, MICHAEL TEREGOV, PAULA ARNOLDS       1\n",
      "GABRIEL HUDSON, RHIANNON LEWIS                                    1\n",
      "Name: characters, Length: 2627, dtype: int64\n"
     ]
    }
   ],
   "source": [
    "print(df1['characters'].value_counts())"
   ]
  },
  {
   "cell_type": "code",
   "execution_count": 129,
   "metadata": {},
   "outputs": [
    {
     "name": "stdout",
     "output_type": "stream",
     "text": [
      "UNITED STATES OF AMERICA                                                                                                                                                                                                                                                                                                                          120\n",
      "NEW YORK CITY, NEW YORK(UNITED STATES)                                                                                                                                                                                                                                                                                                             42\n",
      "LONDON, ENGLAND                                                                                                                                                                                                                                                                                                                                    41\n",
      "UNITED KINGDOM                                                                                                                                                                                                                                                                                                                                     34\n",
      "CALIFORNIA(UNITED STATES)                                                                                                                                                                                                                                                                                                                          26\n",
      "                                                                                                                                                                                                                                                                                                                                                 ... \n",
      "SEAFARE, OREGON(UNITED STATES)                                                                                                                                                                                                                                                                                                                      1\n",
      "SEOUL, SOUTH KOREA(KOREA, REPUBLIC OF) PYONGYANG(KOREA, DEMOCRATIC PEOPLE'S REPUBLIC OF) HÅ­NGNAM(KOREA, DEMOCRATIC PEOPLE'S REPUBLIC OF) Â¦MORE BUSAN(KOREA, REPUBLIC OF) FEDERAL CORRECTIONAL INSTITUTION, DANBURY, CONNECTICUT,1982(UNITED STATES) DANBURY, CONNECTICUT,1982(UNITED STATES) KOREA, DEMOCRATIC PEOPLE'S REPUBLIC OF Â¦LESS      1\n",
      "NEBRASKA(UNITED STATES)                                                                                                                                                                                                                                                                                                                             1\n",
      "STOWE, VERMONT(UNITED STATES)                                                                                                                                                                                                                                                                                                                       1\n",
      "GEORGIA (EURASIAN COUNTRY)                                                                                                                                                                                                                                                                                                                          1\n",
      "Name: settings, Length: 1339, dtype: int64\n"
     ]
    }
   ],
   "source": [
    "print(df1['settings'].value_counts())"
   ]
  },
  {
   "cell_type": "code",
   "execution_count": 130,
   "metadata": {},
   "outputs": [
    {
     "name": "stdout",
     "output_type": "stream",
     "text": [
      "GOODREADS CHOICE AWARD NOMINEE FOR YOUNG ADULT FANTASY & SCIENCE FICTION (2019)                                                                                                                                                                                                                                                                                                                                                                                                                                                                                                                                                                                                                              5\n",
      "GOODREADS CHOICE AWARD NOMINEE FOR ROMANCE (2013)                                                                                                                                                                                                                                                                                                                                                                                                                                                                                                                                                                                                                                                            5\n",
      "GOODREADS CHOICE AWARD NOMINEE FOR ROMANCE (2014)                                                                                                                                                                                                                                                                                                                                                                                                                                                                                                                                                                                                                                                            4\n",
      "GOODREADS CHOICE AWARD NOMINEE FOR DEBUT AUTHOR (2013)                                                                                                                                                                                                                                                                                                                                                                                                                                                                                                                                                                                                                                                       4\n",
      "GOODREADS CHOICE AWARD NOMINEE FOR YOUNG ADULT FANTASY & SCIENCE FICTION (2014)                                                                                                                                                                                                                                                                                                                                                                                                                                                                                                                                                                                                                              3\n",
      "                                                                                                                                                                                                                                                                                                                                                                                                                                                                                                                                                                                                                                                                                                            ..\n",
      "JACQUES BARZUN PRIZE IN CULTURAL HISTORY (2001)                                                                                                                                                                                                                                                                                                                                                                                                                                                                                                                                                                                                                                                              1\n",
      "GOODREADS CHOICE AWARD NOMINEE FOR DEBUT GOODREADS AUTHOR (2015)                                                                                                                                                                                                                                                                                                                                                                                                                                                                                                                                                                                                                                             1\n",
      "OPZIJ LITERATUURPRIJS NOMINEE (2015), ANV DEBUTANTENPRIJS NOMINEE (2015)                                                                                                                                                                                                                                                                                                                                                                                                                                                                                                                                                                                                                                     1\n",
      "KEYSTONE TO READING BOOK AWARD NOMINEE FOR HIGH SCHOOL (2017), EVERGREEN TEEN BOOK AWARD NOMINEE (2018), MILWAUKEE COUNTY TEEN BOOK AWARD NOMINEE (2017), GOODREADS CHOICE AWARD NOMINEE FOR YOUNG ADULT FICTION (2015)                                                                                                                                                                                                                                                                                                                                                                                                                                                                                      1\n",
      "MYTHOPOEIC FANTASY AWARD NOMINEE FOR CHILDREN'S LITERATURE (2015), SUNBURST AWARD NOMINEE FOR YOUNG ADULT (2015), CLA BOOK OF THE YEAR FOR CHILDREN AWARD (2015), PENNSYLVANIA YOUNG READERS' CHOICE AWARD NOMINEE FOR GRADES 6-8 (2016), RHODE ISLAND TEEN BOOK AWARD NOMINEE (2016) DOROTHY CANFIELD FISHER CHILDREN'S BOOK AWARD NOMINEE (2016), GOODREADS CHOICE AWARD NOMINEE FOR MIDDLE GRADE & CHILDREN'S (2014), DIAMOND WILLOW AWARD NOMINEE (2015), THE INTERNATIONAL LITERACY ASSOCIATION (ILA) CHILDREN'S AND YOUNG ADULTS' BOOK AWARD FOR INTERMEDIATE FICTION (2015), OLA FOREST OF READING SILVER BIRCH AWARD FOR FICTION (2015), REBECCA CAUDILL YOUNG READERS' BOOK AWARD NOMINEE (2017)    1\n",
      "Name: awards, Length: 2023, dtype: int64\n"
     ]
    }
   ],
   "source": [
    "print(df1['awards'].value_counts())"
   ]
  },
  {
   "cell_type": "code",
   "execution_count": 131,
   "metadata": {},
   "outputs": [],
   "source": [
    "for i in df1: # Loop through the dataframe\n",
    "    if df1[i].dtype == \"object\": # Get object type values\n",
    "        df1[i] = df1[i].fillna('UNKNOWN')"
   ]
  },
  {
   "cell_type": "code",
   "execution_count": 132,
   "metadata": {},
   "outputs": [
    {
     "data": {
      "text/plain": [
       "id                           0\n",
       "title                        0\n",
       "link                         0\n",
       "series                       0\n",
       "cover_link                   0\n",
       "author                       0\n",
       "author_link                  0\n",
       "rating_count                 0\n",
       "review_count                 0\n",
       "number_of_pages            457\n",
       "date_published               0\n",
       "publisher                    0\n",
       "original_title               0\n",
       "genre_and_votes              0\n",
       "isbn                         0\n",
       "isbn13                    2593\n",
       "asin                         0\n",
       "settings                     0\n",
       "characters                   0\n",
       "awards                       0\n",
       "amazon_redirect_link         0\n",
       "worldcat_redirect_link       0\n",
       "recommended_books            0\n",
       "books_in_series              0\n",
       "description                  0\n",
       "dtype: int64"
      ]
     },
     "execution_count": 132,
     "metadata": {},
     "output_type": "execute_result"
    }
   ],
   "source": [
    "df1.isna().sum()"
   ]
  },
  {
   "cell_type": "code",
   "execution_count": 133,
   "metadata": {},
   "outputs": [],
   "source": [
    "df1['isbn13'] = df1['isbn13'].fillna('UNKNOWN')\n",
    "df1['number_of_pages'] = df1['number_of_pages'].fillna(df1['number_of_pages'].mean())"
   ]
  },
  {
   "cell_type": "code",
   "execution_count": 134,
   "metadata": {},
   "outputs": [
    {
     "data": {
      "text/plain": [
       "id                        0\n",
       "title                     0\n",
       "link                      0\n",
       "series                    0\n",
       "cover_link                0\n",
       "author                    0\n",
       "author_link               0\n",
       "rating_count              0\n",
       "review_count              0\n",
       "number_of_pages           0\n",
       "date_published            0\n",
       "publisher                 0\n",
       "original_title            0\n",
       "genre_and_votes           0\n",
       "isbn                      0\n",
       "isbn13                    0\n",
       "asin                      0\n",
       "settings                  0\n",
       "characters                0\n",
       "awards                    0\n",
       "amazon_redirect_link      0\n",
       "worldcat_redirect_link    0\n",
       "recommended_books         0\n",
       "books_in_series           0\n",
       "description               0\n",
       "dtype: int64"
      ]
     },
     "execution_count": 134,
     "metadata": {},
     "output_type": "execute_result"
    }
   ],
   "source": [
    "df1.isna().sum()"
   ]
  },
  {
   "cell_type": "markdown",
   "metadata": {},
   "source": [
    "<h4> Train set"
   ]
  },
  {
   "cell_type": "code",
   "execution_count": 135,
   "metadata": {},
   "outputs": [],
   "source": [
    "for i in df2: # Loop through imported data\n",
    "    if df2[i].dtype == \"object\": # Get all text value\n",
    "        df2[i] = df2[i].str.upper() # Convert string value into upper case letters"
   ]
  },
  {
   "cell_type": "code",
   "execution_count": 136,
   "metadata": {},
   "outputs": [],
   "source": [
    "for i in df2: # Loop through the data\n",
    "    if df2[i].dtype == \"object\": # Get object type values\n",
    "        df2[i] = df2[i].str.strip() # Return the string without redundant whitespaces"
   ]
  },
  {
   "cell_type": "code",
   "execution_count": 137,
   "metadata": {},
   "outputs": [],
   "source": [
    "df2['genre_and_votes'] = df2['genre_and_votes'].str.replace('American Hi...-','').str.replace(r'[^a-zA-Z0-9, ]', ' ')\n",
    "df2['genre_and_votes'] = df2['genre_and_votes'].str.replace('1USER','')\n"
   ]
  },
  {
   "cell_type": "code",
   "execution_count": 138,
   "metadata": {},
   "outputs": [
    {
     "name": "stdout",
     "output_type": "stream",
     "text": [
      "FICTION                                                                                                                                                                         70\n",
      "FICTION 2                                                                                                                                                                       47\n",
      "NONFICTION                                                                                                                                                                      45\n",
      "CHILDRENS                                                                                                                                                                       32\n",
      "CHILDRENS 2                                                                                                                                                                     28\n",
      "                                                                                                                                                                                ..\n",
      "HISTORY 830, NONFICTION 294, WAR WORLD WAR II 133, WAR 130, MILITARY MILITARY HISTORY 108, CULTURAL GERMANY 82                                                                   1\n",
      "NONFICTION 14, ANIMALS CATS 8, ANIMALS 8                                                                                                                                         1\n",
      "MEDIA TIE IN DOCTOR WHO 44, SCIENCE FICTION 12, REFERENCE 6, SCIENCE FICTION FANTASY 3, MEDIA TIE IN TV 3, FICTION 3, POP CULTURE FANDOM 2, DOCTORS 2, CULTURE POP CULTURE 2     1\n",
      "CLASSICS 2023, FICTION 638                                                                                                                                                       1\n",
      "FANTASY URBAN FANTASY 348, FANTASY 215, HORROR 81, MYSTERY 79, FICTION 61, FANTASY PARANORMAL 53, FANTASY SUPERNATURAL 33                                                        1\n",
      "Name: genre_and_votes, Length: 37957, dtype: int64\n"
     ]
    }
   ],
   "source": [
    "print(df2['genre_and_votes'].value_counts())"
   ]
  },
  {
   "cell_type": "code",
   "execution_count": 139,
   "metadata": {},
   "outputs": [
    {
     "name": "stdout",
     "output_type": "stream",
     "text": [
      "BROKEN                                           12\n",
      "LEGACY                                           11\n",
      "TWISTED                                          10\n",
      "TORN                                              9\n",
      "SELECTED POEMS                                    9\n",
      "                                                 ..\n",
      "OBEDIENCE TO AUTHORITY                            1\n",
      "ESPEJISMOS                                        1\n",
      "FLAWED DOGS: THE SHOCKING RAID ON WESTMINSTER     1\n",
      "THE COVETED                                       1\n",
      "MUCH ADO ABOUT ANNE                               1\n",
      "Name: title, Length: 40005, dtype: int64\n"
     ]
    }
   ],
   "source": [
    "print(df2['title'].value_counts())"
   ]
  },
  {
   "cell_type": "code",
   "execution_count": 140,
   "metadata": {},
   "outputs": [
    {
     "name": "stdout",
     "output_type": "stream",
     "text": [
      "NORA ROBERTS                                                                                                            65\n",
      "AGATHA CHRISTIE                                                                                                         61\n",
      "STEPHEN KING                                                                                                            57\n",
      "ERIN HUNTER                                                                                                             50\n",
      "LUCIAN BANE                                                                                                             45\n",
      "                                                                                                                        ..\n",
      "RICHARD BRINSLEY SHERIDAN                                                                                                1\n",
      "ALEXANDER BELYAEV                                                                                                        1\n",
      "MANCUR OLSON                                                                                                             1\n",
      "JENNIFER ARCHER                                                                                                          1\n",
      "KELLY SUE DECONNICK, TAKI SOMA, VALENTINE DE LANDRO, ROBERT WILSON IV, CRIS PETER, CLAYTON COWLES, LAUREN SANKOVITCH     1\n",
      "Name: author, Length: 23482, dtype: int64\n"
     ]
    }
   ],
   "source": [
    "print(df2['author'].value_counts())"
   ]
  },
  {
   "cell_type": "code",
   "execution_count": 141,
   "metadata": {},
   "outputs": [
    {
     "name": "stdout",
     "output_type": "stream",
     "text": [
      "(SHERLOCK HOLMES)                              12\n",
      "(THE SOCIETY ON DA RUN)                        10\n",
      "(DEAR AMERICA)                                 10\n",
      "(DULUOZ LEGEND)                                10\n",
      "(STAR WARS LEGENDS)                             8\n",
      "                                               ..\n",
      "(HERCULE POIROT #34)                            1\n",
      "(GUARDIANS OF GA'HOOLE #1-4)                    1\n",
      "(THE INHERITANCE CYCLE #GUIDE)                  1\n",
      "(THE LAST CHRONICLES OF THOMAS COVENANT #4)     1\n",
      "(CORK O'CONNOR #1)                              1\n",
      "Name: series, Length: 18194, dtype: int64\n"
     ]
    }
   ],
   "source": [
    "print(df2['series'].value_counts())"
   ]
  },
  {
   "cell_type": "code",
   "execution_count": 142,
   "metadata": {},
   "outputs": [],
   "source": [
    "df2['series'] = df2['series'].apply(lambda x: 1 if type(x)==str else 0)\n",
    "df1['series'] = df1['series'].apply(lambda x: 1 if type(x)==str else 0)\n",
    "df2['awards'] = df2['awards'].apply(lambda x: 1 if type(x)==str else 0)\n",
    "df1['awards'] = df1['awards'].apply(lambda x: 1 if type(x)==str else 0)"
   ]
  },
  {
   "cell_type": "code",
   "execution_count": 143,
   "metadata": {},
   "outputs": [
    {
     "data": {
      "text/plain": [
       "id                            0\n",
       "title                         0\n",
       "link                          0\n",
       "series                        0\n",
       "cover_link                  486\n",
       "author                        0\n",
       "author_link                   0\n",
       "rating_count                  0\n",
       "review_count                  0\n",
       "number_of_pages            1873\n",
       "date_published              688\n",
       "publisher                  2893\n",
       "original_title            10296\n",
       "genre_and_votes            2238\n",
       "isbn                       9475\n",
       "isbn13                    10099\n",
       "asin                      37605\n",
       "settings                  32473\n",
       "characters                30782\n",
       "awards                        0\n",
       "amazon_redirect_link          0\n",
       "worldcat_redirect_link     3203\n",
       "recommended_books          3151\n",
       "books_in_series           24096\n",
       "description                2071\n",
       "dtype: int64"
      ]
     },
     "execution_count": 143,
     "metadata": {},
     "output_type": "execute_result"
    }
   ],
   "source": [
    "df2.isna().sum()"
   ]
  },
  {
   "cell_type": "code",
   "execution_count": 144,
   "metadata": {},
   "outputs": [],
   "source": [
    "for i in df2: # Loop through the dataframe\n",
    "    if df2[i].dtype == \"object\": # Get object type values\n",
    "        df2[i] = df2[i].fillna('UNKNOWN')"
   ]
  },
  {
   "cell_type": "code",
   "execution_count": 145,
   "metadata": {},
   "outputs": [
    {
     "data": {
      "text/plain": [
       "id                           0\n",
       "title                        0\n",
       "link                         0\n",
       "series                       0\n",
       "cover_link                   0\n",
       "author                       0\n",
       "author_link                  0\n",
       "rating_count                 0\n",
       "review_count                 0\n",
       "number_of_pages           1873\n",
       "date_published               0\n",
       "publisher                    0\n",
       "original_title               0\n",
       "genre_and_votes              0\n",
       "isbn                         0\n",
       "isbn13                       0\n",
       "asin                         0\n",
       "settings                     0\n",
       "characters                   0\n",
       "awards                       0\n",
       "amazon_redirect_link         0\n",
       "worldcat_redirect_link       0\n",
       "recommended_books            0\n",
       "books_in_series              0\n",
       "description                  0\n",
       "dtype: int64"
      ]
     },
     "execution_count": 145,
     "metadata": {},
     "output_type": "execute_result"
    }
   ],
   "source": [
    "df2.isna().sum()"
   ]
  },
  {
   "cell_type": "code",
   "execution_count": 146,
   "metadata": {},
   "outputs": [
    {
     "data": {
      "text/html": [
       "<div>\n",
       "<style scoped>\n",
       "    .dataframe tbody tr th:only-of-type {\n",
       "        vertical-align: middle;\n",
       "    }\n",
       "\n",
       "    .dataframe tbody tr th {\n",
       "        vertical-align: top;\n",
       "    }\n",
       "\n",
       "    .dataframe thead th {\n",
       "        text-align: right;\n",
       "    }\n",
       "</style>\n",
       "<table border=\"1\" class=\"dataframe\">\n",
       "  <thead>\n",
       "    <tr style=\"text-align: right;\">\n",
       "      <th></th>\n",
       "      <th>id</th>\n",
       "      <th>series</th>\n",
       "      <th>rating_count</th>\n",
       "      <th>review_count</th>\n",
       "      <th>number_of_pages</th>\n",
       "      <th>awards</th>\n",
       "    </tr>\n",
       "  </thead>\n",
       "  <tbody>\n",
       "    <tr>\n",
       "      <th>count</th>\n",
       "      <td>4.175900e+04</td>\n",
       "      <td>41759.000000</td>\n",
       "      <td>4.175900e+04</td>\n",
       "      <td>41759.000000</td>\n",
       "      <td>39886.000000</td>\n",
       "      <td>41759.000000</td>\n",
       "    </tr>\n",
       "    <tr>\n",
       "      <th>mean</th>\n",
       "      <td>1.012620e+07</td>\n",
       "      <td>0.446538</td>\n",
       "      <td>1.893641e+04</td>\n",
       "      <td>1011.811729</td>\n",
       "      <td>329.366093</td>\n",
       "      <td>0.203621</td>\n",
       "    </tr>\n",
       "    <tr>\n",
       "      <th>std</th>\n",
       "      <td>1.162310e+07</td>\n",
       "      <td>0.497140</td>\n",
       "      <td>1.204193e+05</td>\n",
       "      <td>4129.329384</td>\n",
       "      <td>250.991146</td>\n",
       "      <td>0.402695</td>\n",
       "    </tr>\n",
       "    <tr>\n",
       "      <th>min</th>\n",
       "      <td>1.000000e+00</td>\n",
       "      <td>0.000000</td>\n",
       "      <td>0.000000e+00</td>\n",
       "      <td>0.000000</td>\n",
       "      <td>0.000000</td>\n",
       "      <td>0.000000</td>\n",
       "    </tr>\n",
       "    <tr>\n",
       "      <th>25%</th>\n",
       "      <td>3.639875e+05</td>\n",
       "      <td>0.000000</td>\n",
       "      <td>3.460000e+02</td>\n",
       "      <td>32.000000</td>\n",
       "      <td>211.000000</td>\n",
       "      <td>0.000000</td>\n",
       "    </tr>\n",
       "    <tr>\n",
       "      <th>50%</th>\n",
       "      <td>6.365996e+06</td>\n",
       "      <td>0.000000</td>\n",
       "      <td>2.295000e+03</td>\n",
       "      <td>164.000000</td>\n",
       "      <td>304.000000</td>\n",
       "      <td>0.000000</td>\n",
       "    </tr>\n",
       "    <tr>\n",
       "      <th>75%</th>\n",
       "      <td>1.737325e+07</td>\n",
       "      <td>1.000000</td>\n",
       "      <td>9.271000e+03</td>\n",
       "      <td>626.500000</td>\n",
       "      <td>393.000000</td>\n",
       "      <td>0.000000</td>\n",
       "    </tr>\n",
       "    <tr>\n",
       "      <th>max</th>\n",
       "      <td>5.444299e+07</td>\n",
       "      <td>1.000000</td>\n",
       "      <td>6.801077e+06</td>\n",
       "      <td>169511.000000</td>\n",
       "      <td>11095.000000</td>\n",
       "      <td>1.000000</td>\n",
       "    </tr>\n",
       "  </tbody>\n",
       "</table>\n",
       "</div>"
      ],
      "text/plain": [
       "                 id        series  rating_count   review_count  \\\n",
       "count  4.175900e+04  41759.000000  4.175900e+04   41759.000000   \n",
       "mean   1.012620e+07      0.446538  1.893641e+04    1011.811729   \n",
       "std    1.162310e+07      0.497140  1.204193e+05    4129.329384   \n",
       "min    1.000000e+00      0.000000  0.000000e+00       0.000000   \n",
       "25%    3.639875e+05      0.000000  3.460000e+02      32.000000   \n",
       "50%    6.365996e+06      0.000000  2.295000e+03     164.000000   \n",
       "75%    1.737325e+07      1.000000  9.271000e+03     626.500000   \n",
       "max    5.444299e+07      1.000000  6.801077e+06  169511.000000   \n",
       "\n",
       "       number_of_pages        awards  \n",
       "count     39886.000000  41759.000000  \n",
       "mean        329.366093      0.203621  \n",
       "std         250.991146      0.402695  \n",
       "min           0.000000      0.000000  \n",
       "25%         211.000000      0.000000  \n",
       "50%         304.000000      0.000000  \n",
       "75%         393.000000      0.000000  \n",
       "max       11095.000000      1.000000  "
      ]
     },
     "execution_count": 146,
     "metadata": {},
     "output_type": "execute_result"
    }
   ],
   "source": [
    "df2.describe()"
   ]
  },
  {
   "cell_type": "code",
   "execution_count": 147,
   "metadata": {},
   "outputs": [
    {
     "name": "stdout",
     "output_type": "stream",
     "text": [
      "<class 'pandas.core.frame.DataFrame'>\n",
      "RangeIndex: 41759 entries, 0 to 41758\n",
      "Data columns (total 25 columns):\n",
      " #   Column                  Non-Null Count  Dtype  \n",
      "---  ------                  --------------  -----  \n",
      " 0   id                      41759 non-null  int64  \n",
      " 1   title                   41759 non-null  object \n",
      " 2   link                    41759 non-null  object \n",
      " 3   series                  41759 non-null  int64  \n",
      " 4   cover_link              41759 non-null  object \n",
      " 5   author                  41759 non-null  object \n",
      " 6   author_link             41759 non-null  object \n",
      " 7   rating_count            41759 non-null  int64  \n",
      " 8   review_count            41759 non-null  int64  \n",
      " 9   number_of_pages         39886 non-null  float64\n",
      " 10  date_published          41759 non-null  object \n",
      " 11  publisher               41759 non-null  object \n",
      " 12  original_title          41759 non-null  object \n",
      " 13  genre_and_votes         41759 non-null  object \n",
      " 14  isbn                    41759 non-null  object \n",
      " 15  isbn13                  41759 non-null  object \n",
      " 16  asin                    41759 non-null  object \n",
      " 17  settings                41759 non-null  object \n",
      " 18  characters              41759 non-null  object \n",
      " 19  awards                  41759 non-null  int64  \n",
      " 20  amazon_redirect_link    41759 non-null  object \n",
      " 21  worldcat_redirect_link  41759 non-null  object \n",
      " 22  recommended_books       41759 non-null  object \n",
      " 23  books_in_series         41759 non-null  object \n",
      " 24  description             41759 non-null  object \n",
      "dtypes: float64(1), int64(5), object(19)\n",
      "memory usage: 8.0+ MB\n"
     ]
    }
   ],
   "source": [
    "df2.info()"
   ]
  },
  {
   "cell_type": "code",
   "execution_count": 148,
   "metadata": {},
   "outputs": [],
   "source": [
    "df2['number_of_pages'] = df2['number_of_pages'].fillna(df2['number_of_pages'].mean())"
   ]
  },
  {
   "cell_type": "markdown",
   "metadata": {},
   "source": [
    "<h4> Column\n",
    "   "
   ]
  },
  {
   "cell_type": "code",
   "execution_count": 149,
   "metadata": {},
   "outputs": [
    {
     "name": "stderr",
     "output_type": "stream",
     "text": [
      "c:\\users\\viet anh tran\\appdata\\local\\programs\\python\\python38\\lib\\site-packages\\seaborn\\_decorators.py:36: FutureWarning: Pass the following variable as a keyword arg: x. From version 0.12, the only valid positional argument will be `data`, and passing other arguments without an explicit keyword will result in an error or misinterpretation.\n",
      "  warnings.warn(\n"
     ]
    },
    {
     "data": {
      "text/plain": [
       "<AxesSubplot:xlabel='number_of_pages'>"
      ]
     },
     "execution_count": 149,
     "metadata": {},
     "output_type": "execute_result"
    },
    {
     "data": {
      "image/png": "[encoded data removed]",
      "text/plain": [
       "<Figure size 1080x720 with 1 Axes>"
      ]
     },
     "metadata": {
      "needs_background": "light"
     },
     "output_type": "display_data"
    }
   ],
   "source": [
    "plt.figure(figsize = (15,10))\n",
    "sns.boxplot(df2['number_of_pages'], showfliers=False)"
   ]
  },
  {
   "cell_type": "code",
   "execution_count": 150,
   "metadata": {},
   "outputs": [
    {
     "name": "stderr",
     "output_type": "stream",
     "text": [
      "c:\\users\\viet anh tran\\appdata\\local\\programs\\python\\python38\\lib\\site-packages\\seaborn\\_decorators.py:36: FutureWarning: Pass the following variable as a keyword arg: x. From version 0.12, the only valid positional argument will be `data`, and passing other arguments without an explicit keyword will result in an error or misinterpretation.\n",
      "  warnings.warn(\n"
     ]
    },
    {
     "data": {
      "text/plain": [
       "<AxesSubplot:xlabel='rating_count'>"
      ]
     },
     "execution_count": 150,
     "metadata": {},
     "output_type": "execute_result"
    },
    {
     "data": {
      "image/png": "[encoded data removed]",
      "text/plain": [
       "<Figure size 1080x720 with 1 Axes>"
      ]
     },
     "metadata": {
      "needs_background": "light"
     },
     "output_type": "display_data"
    }
   ],
   "source": [
    "plt.figure(figsize = (15,10))\n",
    "sns.boxplot(df2['rating_count'], showfliers=False)"
   ]
  },
  {
   "cell_type": "code",
   "execution_count": 151,
   "metadata": {},
   "outputs": [
    {
     "name": "stderr",
     "output_type": "stream",
     "text": [
      "c:\\users\\viet anh tran\\appdata\\local\\programs\\python\\python38\\lib\\site-packages\\seaborn\\_decorators.py:36: FutureWarning: Pass the following variable as a keyword arg: x. From version 0.12, the only valid positional argument will be `data`, and passing other arguments without an explicit keyword will result in an error or misinterpretation.\n",
      "  warnings.warn(\n"
     ]
    },
    {
     "data": {
      "text/plain": [
       "<AxesSubplot:xlabel='review_count'>"
      ]
     },
     "execution_count": 151,
     "metadata": {},
     "output_type": "execute_result"
    },
    {
     "data": {
      "image/png": "[encoded data removed]",
      "text/plain": [
       "<Figure size 1080x720 with 1 Axes>"
      ]
     },
     "metadata": {
      "needs_background": "light"
     },
     "output_type": "display_data"
    }
   ],
   "source": [
    "plt.figure(figsize = (15,10))\n",
    "sns.boxplot(df2['review_count'], showfliers=False)"
   ]
  },
  {
   "cell_type": "markdown",
   "metadata": {},
   "source": [
    "<h4> Feature \n",
    "    "
   ]
  },
  {
   "cell_type": "code",
   "execution_count": 152,
   "metadata": {},
   "outputs": [],
   "source": [
    "from sklearn import preprocessing\n",
    "from sklearn.model_selection import train_test_split\n",
    "from sklearn.linear_model import LinearRegression\n",
    "from sklearn import metrics\n",
    "from sklearn.preprocessing import StandardScaler\n",
    "from sklearn.pipeline import make_pipeline\n",
    "from sklearn.model_selection import KFold\n",
    "from sklearn.neighbors import KNeighborsRegressor\n",
    "from sklearn.metrics import mean_squared_error, r2_score\n",
    "from sklearn.model_selection import cross_val_predict\n",
    "from math import sqrt\n",
    "import xgboost"
   ]
  },
  {
   "cell_type": "code",
   "execution_count": 153,
   "metadata": {},
   "outputs": [],
   "source": [
    "y_train = pd.read_csv('y_train.csv')\n"
   ]
  },
  {
   "cell_type": "code",
   "execution_count": 154,
   "metadata": {},
   "outputs": [
    {
     "data": {
      "text/plain": [
       "Index(['id', 'title', 'link', 'series', 'cover_link', 'author', 'author_link',\n",
       "       'rating_count', 'review_count', 'number_of_pages', 'date_published',\n",
       "       'publisher', 'original_title', 'genre_and_votes', 'isbn', 'isbn13',\n",
       "       'asin', 'settings', 'characters', 'awards', 'amazon_redirect_link',\n",
       "       'worldcat_redirect_link', 'recommended_books', 'books_in_series',\n",
       "       'description'],\n",
       "      dtype='object')"
      ]
     },
     "execution_count": 154,
     "metadata": {},
     "output_type": "execute_result"
    }
   ],
   "source": [
    "df2.columns"
   ]
  },
  {
   "cell_type": "code",
   "execution_count": 155,
   "metadata": {},
   "outputs": [],
   "source": [
    "label_encoder = preprocessing.LabelEncoder()"
   ]
  },
  {
   "cell_type": "code",
   "execution_count": null,
   "metadata": {},
   "outputs": [],
   "source": []
  },
  {
   "cell_type": "code",
   "execution_count": 156,
   "metadata": {},
   "outputs": [],
   "source": [
    "df2['series'] = df2['series'].apply(lambda x: 1 if type(x)==str else 0)\n",
    "df1['series'] = df1['series'].apply(lambda x: 1 if type(x)==str else 0)\n",
    "df2['awards'] = df2['awards'].apply(lambda x: 1 if type(x)==str else 0)\n",
    "df1['awards'] = df1['awards'].apply(lambda x: 1 if type(x)==str else 0)\n"
   ]
  },
  {
   "cell_type": "code",
   "execution_count": 157,
   "metadata": {},
   "outputs": [
    {
     "name": "stdout",
     "output_type": "stream",
     "text": [
      "<class 'pandas.core.frame.DataFrame'>\n",
      "RangeIndex: 10440 entries, 0 to 10439\n",
      "Data columns (total 25 columns):\n",
      " #   Column                  Non-Null Count  Dtype  \n",
      "---  ------                  --------------  -----  \n",
      " 0   id                      10440 non-null  int64  \n",
      " 1   title                   10440 non-null  object \n",
      " 2   link                    10440 non-null  object \n",
      " 3   series                  10440 non-null  int64  \n",
      " 4   cover_link              10440 non-null  object \n",
      " 5   author                  10440 non-null  object \n",
      " 6   author_link             10440 non-null  object \n",
      " 7   rating_count            10440 non-null  int64  \n",
      " 8   review_count            10440 non-null  int64  \n",
      " 9   number_of_pages         10440 non-null  float64\n",
      " 10  date_published          10440 non-null  object \n",
      " 11  publisher               10440 non-null  object \n",
      " 12  original_title          10440 non-null  object \n",
      " 13  genre_and_votes         10440 non-null  object \n",
      " 14  isbn                    10440 non-null  object \n",
      " 15  isbn13                  10440 non-null  object \n",
      " 16  asin                    10440 non-null  object \n",
      " 17  settings                10440 non-null  object \n",
      " 18  characters              10440 non-null  object \n",
      " 19  awards                  10440 non-null  int64  \n",
      " 20  amazon_redirect_link    10440 non-null  object \n",
      " 21  worldcat_redirect_link  10440 non-null  object \n",
      " 22  recommended_books       10440 non-null  object \n",
      " 23  books_in_series         10440 non-null  object \n",
      " 24  description             10440 non-null  object \n",
      "dtypes: float64(1), int64(5), object(19)\n",
      "memory usage: 2.0+ MB\n"
     ]
    }
   ],
   "source": [
    "df1.info()"
   ]
  },
  {
   "cell_type": "code",
   "execution_count": 158,
   "metadata": {},
   "outputs": [],
   "source": [
    "df2[\"description\"] = df2[\"title\"].astype(str) + \" \"  + df2[\"author\"].astype(str) + \" \"  + df2[\"characters\"].astype(str) + \" \" + df2[\"description\"].astype(str)\n",
    "df1[\"description\"] = df2[\"title\"].astype(str) + \" \"  + df2[\"author\"].astype(str) + \" \"  + df2[\"characters\"].astype(str) + \" \" + df2[\"description\"].astype(str)"
   ]
  },
  {
   "cell_type": "code",
   "execution_count": 159,
   "metadata": {},
   "outputs": [
    {
     "name": "stdout",
     "output_type": "stream",
     "text": [
      "0        FROST/NIXON DAVID FROST RICHARD NIXON, DAVID F...\n",
      "1        JUST WHAT KIND OF MOTHER ARE YOU? PAULA DALY U...\n",
      "2        CAFENOVA S. JANE SCHEYDER UNKNOWN LEAVING HER ...\n",
      "3        UNCLE FRED IN THE SPRINGTIME P.G. WODEHOUSE CL...\n",
      "4        DOUBLE SHARE NATHAN LOWELL ISHMAEL HORATIO WAN...\n",
      "                               ...                        \n",
      "41754    DIE KÃ¤NGURU-OFFENBARUNG MARC-UWE KLING UNKNOW...\n",
      "41755    CITIES OF THE PLAIN CORMAC MCCARTHY JOHN GRADY...\n",
      "41756    DODGING SATAN: MY IRISH/ITALIAN, SOMETIMES AWE...\n",
      "41757    KÃ¼RK MANTOLU MADONNA SABAHATTIN ALI RAIF BEY,...\n",
      "41758    THE WRONG SIDE OF RIGHT JENN MARIE THORNE KATI...\n",
      "Name: description, Length: 41759, dtype: object\n"
     ]
    }
   ],
   "source": [
    "print(df2['description'])"
   ]
  },
  {
   "cell_type": "code",
   "execution_count": 160,
   "metadata": {},
   "outputs": [],
   "source": [
    "df2['title'] = label_encoder.fit_transform(df2['title'])\n",
    "df2['author'] = label_encoder.fit_transform(df2['author'])\n",
    "df2['publisher'] = label_encoder.fit_transform(df2['publisher'])"
   ]
  },
  {
   "cell_type": "code",
   "execution_count": 161,
   "metadata": {},
   "outputs": [
    {
     "data": {
      "image/png": "[encoded data removed]",
      "text/plain": [
       "<Figure size 864x576 with 2 Axes>"
      ]
     },
     "metadata": {
      "needs_background": "light"
     },
     "output_type": "display_data"
    }
   ],
   "source": [
    "fig_dims = (12, 8)\n",
    "fig, ax = plt.subplots(figsize=fig_dims)\n",
    "sns.heatmap(df2.corr(), ax=ax)\n",
    "plt.show()"
   ]
  },
  {
   "cell_type": "code",
   "execution_count": 162,
   "metadata": {},
   "outputs": [],
   "source": [
    "df2.drop(columns=['id'],axis=1, inplace=True)"
   ]
  },
  {
   "cell_type": "code",
   "execution_count": 163,
   "metadata": {},
   "outputs": [
    {
     "data": {
      "text/plain": [
       "title              0.001797\n",
       "series                  NaN\n",
       "author             0.006758\n",
       "rating_count       0.831690\n",
       "review_count       1.000000\n",
       "number_of_pages    0.042019\n",
       "publisher          0.023071\n",
       "awards                  NaN\n",
       "Name: review_count, dtype: float64"
      ]
     },
     "execution_count": 163,
     "metadata": {},
     "output_type": "execute_result"
    }
   ],
   "source": [
    "abs(df2.corr()[\"review_count\"])"
   ]
  },
  {
   "cell_type": "code",
   "execution_count": 164,
   "metadata": {},
   "outputs": [
    {
     "data": {
      "text/plain": [
       "rating_count       25.551397\n",
       "review_count       14.975432\n",
       "number_of_pages    10.312070\n",
       "title               0.004102\n",
       "author              0.000437\n",
       "awards              0.000000\n",
       "series              0.000000\n",
       "publisher          -0.111736\n",
       "dtype: float64"
      ]
     },
     "execution_count": 164,
     "metadata": {},
     "output_type": "execute_result"
    }
   ],
   "source": [
    "from scipy.stats import skew \n",
    "numeric_feats = df2.dtypes[df2.dtypes != \"object\"].index\n",
    "\n",
    "skewed_feats = df2[numeric_feats].apply(lambda x: skew(x)).sort_values(ascending=False)\n",
    "\n",
    "skewed_feats"
   ]
  },
  {
   "cell_type": "code",
   "execution_count": 165,
   "metadata": {},
   "outputs": [
    {
     "name": "stderr",
     "output_type": "stream",
     "text": [
      "c:\\users\\viet anh tran\\appdata\\local\\programs\\python\\python38\\lib\\site-packages\\seaborn\\distributions.py:2557: FutureWarning: `distplot` is a deprecated function and will be removed in a future version. Please adapt your code to use either `displot` (a figure-level function with similar flexibility) or `histplot` (an axes-level function for histograms).\n",
      "  warnings.warn(msg, FutureWarning)\n"
     ]
    },
    {
     "data": {
      "image/png": "[encoded data removed]",
      "text/plain": [
       "<Figure size 432x288 with 1 Axes>"
      ]
     },
     "metadata": {
      "needs_background": "light"
     },
     "output_type": "display_data"
    }
   ],
   "source": [
    "sns.distplot(df2['number_of_pages']);"
   ]
  },
  {
   "cell_type": "code",
   "execution_count": 166,
   "metadata": {},
   "outputs": [],
   "source": [
    "def fixing_skewness(df):\n",
    "    \"\"\"\n",
    "    This function takes in a dataframe and return fixed skewed dataframe\n",
    "    \"\"\"\n",
    "    ## Import necessary modules \n",
    "    from scipy.stats import skew\n",
    "    from scipy.special import boxcox1p\n",
    "    from scipy.stats import boxcox_normmax\n",
    "    \n",
    "    ## Getting all the data that are not of \"object\" type. \n",
    "    numeric_feats = df.dtypes[df.dtypes != \"object\"].index\n",
    "\n",
    "    # Check the skew of all numerical features\n",
    "    skewed_feats = df[numeric_feats].apply(lambda x: skew(x)).sort_values(ascending=False)\n",
    "    high_skew = skewed_feats[abs(skewed_feats) > 0.5]\n",
    "    skewed_features = high_skew.index\n",
    "\n",
    "    for feat in skewed_features:\n",
    "        df[feat] = boxcox1p(df[feat], boxcox_normmax(df[feat] + 1))\n",
    "\n",
    "fixing_skewness(df2)"
   ]
  },
  {
   "cell_type": "code",
   "execution_count": 167,
   "metadata": {},
   "outputs": [
    {
     "name": "stderr",
     "output_type": "stream",
     "text": [
      "c:\\users\\viet anh tran\\appdata\\local\\programs\\python\\python38\\lib\\site-packages\\seaborn\\distributions.py:2557: FutureWarning: `distplot` is a deprecated function and will be removed in a future version. Please adapt your code to use either `displot` (a figure-level function with similar flexibility) or `histplot` (an axes-level function for histograms).\n",
      "  warnings.warn(msg, FutureWarning)\n"
     ]
    },
    {
     "data": {
      "image/png": "[encoded data removed]",
      "text/plain": [
       "<Figure size 432x288 with 1 Axes>"
      ]
     },
     "metadata": {
      "needs_background": "light"
     },
     "output_type": "display_data"
    }
   ],
   "source": [
    "sns.distplot(df2['number_of_pages']);"
   ]
  },
  {
   "cell_type": "code",
   "execution_count": 168,
   "metadata": {},
   "outputs": [
    {
     "name": "stderr",
     "output_type": "stream",
     "text": [
      "c:\\users\\viet anh tran\\appdata\\local\\programs\\python\\python38\\lib\\site-packages\\seaborn\\distributions.py:2557: FutureWarning: `distplot` is a deprecated function and will be removed in a future version. Please adapt your code to use either `displot` (a figure-level function with similar flexibility) or `histplot` (an axes-level function for histograms).\n",
      "  warnings.warn(msg, FutureWarning)\n"
     ]
    },
    {
     "data": {
      "image/png": "[encoded data removed]",
      "text/plain": [
       "<Figure size 432x288 with 1 Axes>"
      ]
     },
     "metadata": {
      "needs_background": "light"
     },
     "output_type": "display_data"
    }
   ],
   "source": [
    "sns.distplot(df2['rating_count']);"
   ]
  },
  {
   "cell_type": "code",
   "execution_count": 169,
   "metadata": {},
   "outputs": [
    {
     "data": {
      "text/plain": [
       "(41759, 24)"
      ]
     },
     "execution_count": 169,
     "metadata": {},
     "output_type": "execute_result"
    }
   ],
   "source": [
    "df2.shape"
   ]
  },
  {
   "cell_type": "code",
   "execution_count": 170,
   "metadata": {},
   "outputs": [],
   "source": [
    "df2.insert(3,'average rating', value=y_train['average_rating'])"
   ]
  },
  {
   "cell_type": "code",
   "execution_count": 171,
   "metadata": {},
   "outputs": [],
   "source": [
    "X = df2.filter(['title','author','number of pages','review_count','rating_count'])\n",
    "y = df2['average rating']"
   ]
  },
  {
   "cell_type": "code",
   "execution_count": 173,
   "metadata": {},
   "outputs": [
    {
     "name": "stdout",
     "output_type": "stream",
     "text": [
      "Num Features: 4\n",
      "Selected Features: [ True  True  True  True]\n",
      "Feature Ranking: [1 1 1 1]\n"
     ]
    }
   ],
   "source": [
    "# Recursive Feature Elimination - feature selection\n",
    "from sklearn import linear_model\n",
    "from sklearn.feature_selection import RFE\n",
    "model = linear_model.LinearRegression()\n",
    "rfe = RFE(model, n_features_to_select=9)\n",
    "fit = rfe.fit(X, y)\n",
    "print(\"Num Features: %s\" % (fit.n_features_))\n",
    "print(\"Selected Features: %s\" % (fit.support_))\n",
    "print(\"Feature Ranking: %s\" % (fit.ranking_))"
   ]
  },
  {
   "cell_type": "code",
   "execution_count": 198,
   "metadata": {},
   "outputs": [
    {
     "data": {
      "text/plain": [
       "Index(['rating_count', 'review_count'], dtype='object')"
      ]
     },
     "execution_count": 198,
     "metadata": {},
     "output_type": "execute_result"
    }
   ],
   "source": [
    "X.columns"
   ]
  },
  {
   "cell_type": "code",
   "execution_count": 199,
   "metadata": {},
   "outputs": [
    {
     "data": {
      "text/html": [
       "<div>\n",
       "<style scoped>\n",
       "    .dataframe tbody tr th:only-of-type {\n",
       "        vertical-align: middle;\n",
       "    }\n",
       "\n",
       "    .dataframe tbody tr th {\n",
       "        vertical-align: top;\n",
       "    }\n",
       "\n",
       "    .dataframe thead th {\n",
       "        text-align: right;\n",
       "    }\n",
       "</style>\n",
       "<table border=\"1\" class=\"dataframe\">\n",
       "  <thead>\n",
       "    <tr style=\"text-align: right;\">\n",
       "      <th></th>\n",
       "      <th>Actual value</th>\n",
       "      <th>Predicted value</th>\n",
       "    </tr>\n",
       "  </thead>\n",
       "  <tbody>\n",
       "    <tr>\n",
       "      <th>0</th>\n",
       "      <td>4.16</td>\n",
       "      <td>3.974324</td>\n",
       "    </tr>\n",
       "    <tr>\n",
       "      <th>1</th>\n",
       "      <td>4.60</td>\n",
       "      <td>4.053435</td>\n",
       "    </tr>\n",
       "    <tr>\n",
       "      <th>2</th>\n",
       "      <td>3.76</td>\n",
       "      <td>3.967247</td>\n",
       "    </tr>\n",
       "    <tr>\n",
       "      <th>3</th>\n",
       "      <td>4.97</td>\n",
       "      <td>3.990532</td>\n",
       "    </tr>\n",
       "    <tr>\n",
       "      <th>4</th>\n",
       "      <td>3.76</td>\n",
       "      <td>3.976719</td>\n",
       "    </tr>\n",
       "    <tr>\n",
       "      <th>5</th>\n",
       "      <td>3.42</td>\n",
       "      <td>3.949813</td>\n",
       "    </tr>\n",
       "    <tr>\n",
       "      <th>6</th>\n",
       "      <td>3.94</td>\n",
       "      <td>4.050479</td>\n",
       "    </tr>\n",
       "    <tr>\n",
       "      <th>7</th>\n",
       "      <td>4.18</td>\n",
       "      <td>4.056692</td>\n",
       "    </tr>\n",
       "    <tr>\n",
       "      <th>8</th>\n",
       "      <td>4.12</td>\n",
       "      <td>4.174860</td>\n",
       "    </tr>\n",
       "    <tr>\n",
       "      <th>9</th>\n",
       "      <td>3.75</td>\n",
       "      <td>4.174301</td>\n",
       "    </tr>\n",
       "  </tbody>\n",
       "</table>\n",
       "</div>"
      ],
      "text/plain": [
       "   Actual value  Predicted value\n",
       "0          4.16         3.974324\n",
       "1          4.60         4.053435\n",
       "2          3.76         3.967247\n",
       "3          4.97         3.990532\n",
       "4          3.76         3.976719\n",
       "5          3.42         3.949813\n",
       "6          3.94         4.050479\n",
       "7          4.18         4.056692\n",
       "8          4.12         4.174860\n",
       "9          3.75         4.174301"
      ]
     },
     "execution_count": 199,
     "metadata": {},
     "output_type": "execute_result"
    }
   ],
   "source": [
    "# 80 train, 20 value\n",
    "X_train, X_test, y_train, y_test = train_test_split(X, y, test_size = 0.6, random_state = 0, shuffle = True)\n",
    "lin_reg = LinearRegression()\n",
    "lin_reg.fit(X_train, y_train)\n",
    "my_prediction = lin_reg.predict(X_test)\n",
    "predict_df = pd.DataFrame({'Actual value': y_test.tolist(), 'Predicted value': my_prediction.tolist()}).head(25)\n",
    "predict_df.head(10)"
   ]
  },
  {
   "cell_type": "code",
   "execution_count": 200,
   "metadata": {},
   "outputs": [
    {
     "data": {
      "text/plain": [
       "0.36772368850265913"
      ]
     },
     "execution_count": 200,
     "metadata": {},
     "output_type": "execute_result"
    }
   ],
   "source": [
    "#rmse\n",
    "np.sqrt(metrics.mean_squared_error(y_test, my_prediction))"
   ]
  },
  {
   "cell_type": "code",
   "execution_count": 201,
   "metadata": {},
   "outputs": [
    {
     "name": "stdout",
     "output_type": "stream",
     "text": [
      "RMSE: 0.33\n",
      "R_squared: 0.2\n"
     ]
    }
   ],
   "source": [
    "cv = KFold(n_splits=5, random_state=0, shuffle=True)\n",
    "classifier_pipeline = make_pipeline(StandardScaler(), KNeighborsRegressor(n_neighbors=10))\n",
    "y_pred = cross_val_predict(classifier_pipeline, X, y, cv=cv)\n",
    "print(\"RMSE: \" + str(round(sqrt(mean_squared_error(y,y_pred)),2)))\n",
    "print(\"R_squared: \" + str(round(r2_score(y,y_pred),2)))"
   ]
  },
  {
   "cell_type": "code",
   "execution_count": 202,
   "metadata": {},
   "outputs": [
    {
     "name": "stdout",
     "output_type": "stream",
     "text": [
      "RMSE: 0.33\n",
      "R_squared: 0.2\n"
     ]
    }
   ],
   "source": [
    "cv = KFold(n_splits=10, random_state=0, shuffle=True)\n",
    "classifier_pipeline = make_pipeline(StandardScaler(), KNeighborsRegressor(n_neighbors=10))\n",
    "y_pred = cross_val_predict(classifier_pipeline, X, y, cv=cv)\n",
    "print(\"RMSE: \" + str(round(sqrt(mean_squared_error(y,y_pred)),2)))\n",
    "print(\"R_squared: \" + str(round(r2_score(y,y_pred),2)))"
   ]
  },
  {
   "cell_type": "markdown",
   "metadata": {},
   "source": [
    "<h3> By Var"
   ]
  },
  {
   "cell_type": "code",
   "execution_count": 203,
   "metadata": {},
   "outputs": [
    {
     "data": {
      "text/plain": [
       "title              1.326567e+08\n",
       "series             0.000000e+00\n",
       "average rating     1.353507e-01\n",
       "author             4.493251e+07\n",
       "rating_count       1.756306e+01\n",
       "review_count       7.388710e+00\n",
       "number_of_pages    1.595512e+01\n",
       "publisher          7.324770e+06\n",
       "awards             0.000000e+00\n",
       "dtype: float64"
      ]
     },
     "execution_count": 203,
     "metadata": {},
     "output_type": "execute_result"
    }
   ],
   "source": [
    "df2.var()"
   ]
  },
  {
   "cell_type": "code",
   "execution_count": 204,
   "metadata": {},
   "outputs": [],
   "source": [
    "X1 = df2.filter(['title','author','number of pages','review_count','rating_count'])"
   ]
  },
  {
   "cell_type": "code",
   "execution_count": 205,
   "metadata": {},
   "outputs": [
    {
     "name": "stdout",
     "output_type": "stream",
     "text": [
      "RMSE: 0.36\n",
      "R_squared: 0.04\n"
     ]
    }
   ],
   "source": [
    "y_pred = cross_val_predict(classifier_pipeline, X1, y, cv=cv)\n",
    "print(\"RMSE: \" + str(round(sqrt(mean_squared_error(y,y_pred)),2)))\n",
    "print(\"R_squared: \" + str(round(r2_score(y,y_pred),2)))"
   ]
  },
  {
   "cell_type": "markdown",
   "metadata": {},
   "source": [
    "<h3> By Corr"
   ]
  },
  {
   "cell_type": "code",
   "execution_count": 206,
   "metadata": {},
   "outputs": [
    {
     "data": {
      "text/plain": [
       "title              0.005895\n",
       "series                  NaN\n",
       "average rating     1.000000\n",
       "author             0.003271\n",
       "rating_count       0.073534\n",
       "review_count       0.110456\n",
       "number_of_pages    0.058264\n",
       "publisher          0.009634\n",
       "awards                  NaN\n",
       "Name: average rating, dtype: float64"
      ]
     },
     "execution_count": 206,
     "metadata": {},
     "output_type": "execute_result"
    }
   ],
   "source": [
    "abs(df2.corr()[\"average rating\"])"
   ]
  },
  {
   "cell_type": "code",
   "execution_count": 207,
   "metadata": {},
   "outputs": [
    {
     "data": {
      "text/plain": [
       "['title', 'rating_count', 'review_count', 'number_of_pages', 'publisher']"
      ]
     },
     "execution_count": 207,
     "metadata": {},
     "output_type": "execute_result"
    }
   ],
   "source": [
    "abs(df2.corr()[\"average rating\"][abs(df2.corr()[\"average rating\"])>0.005].drop('average rating')).index.tolist()"
   ]
  },
  {
   "cell_type": "code",
   "execution_count": 208,
   "metadata": {},
   "outputs": [
    {
     "name": "stdout",
     "output_type": "stream",
     "text": [
      "['title', 'rating_count', 'review_count', 'number_of_pages', 'publisher']\n",
      "RMSE: 0.36\n",
      "R_squared: 0.05\n",
      "['rating_count', 'review_count', 'number_of_pages', 'publisher']\n",
      "RMSE: 0.35\n",
      "R_squared: 0.12\n",
      "['rating_count', 'review_count', 'number_of_pages']\n",
      "RMSE: 0.33\n",
      "R_squared: 0.17\n",
      "['rating_count', 'review_count', 'number_of_pages']\n",
      "RMSE: 0.33\n",
      "R_squared: 0.17\n",
      "['rating_count', 'review_count', 'number_of_pages']\n",
      "RMSE: 0.33\n",
      "R_squared: 0.17\n",
      "['rating_count', 'review_count', 'number_of_pages']\n",
      "RMSE: 0.33\n",
      "R_squared: 0.17\n",
      "['rating_count', 'review_count', 'number_of_pages']\n",
      "RMSE: 0.33\n",
      "R_squared: 0.17\n",
      "['rating_count', 'review_count']\n",
      "RMSE: 0.33\n",
      "R_squared: 0.2\n"
     ]
    }
   ],
   "source": [
    "thres = [0.005,0.007,0.01,0.02,0.03,0.04,0.05,0.06]\n",
    "for val in thres:\n",
    "    features = abs(df2.corr()[\"average rating\"][abs(df2.corr()[\"average rating\"])>val].drop('average rating')).index.tolist()\n",
    "    \n",
    "    X = df2.drop(columns='average rating')\n",
    "    X=X[features]\n",
    "    \n",
    "    print(features)\n",
    "\n",
    "    y_pred = cross_val_predict(classifier_pipeline, X, y, cv=cv)\n",
    "    print(\"RMSE: \" + str(round(sqrt(mean_squared_error(y,y_pred)),2)))\n",
    "    print(\"R_squared: \" + str(round(r2_score(y,y_pred),2)))"
   ]
  },
  {
   "cell_type": "markdown",
   "metadata": {},
   "source": [
    "<h3> Test df\n",
    "   "
   ]
  },
  {
   "cell_type": "code",
   "execution_count": 209,
   "metadata": {},
   "outputs": [
    {
     "data": {
      "text/plain": [
       "id                 1.375754e+14\n",
       "title              8.805015e+06\n",
       "average rating     2.044892e+00\n",
       "series             0.000000e+00\n",
       "author             5.079195e+06\n",
       "rating_count       9.740081e+09\n",
       "review_count       1.400310e+07\n",
       "number_of_pages    6.457072e+04\n",
       "publisher          1.086355e+06\n",
       "awards             0.000000e+00\n",
       "dtype: float64"
      ]
     },
     "execution_count": 209,
     "metadata": {},
     "output_type": "execute_result"
    }
   ],
   "source": [
    "df1.var()"
   ]
  },
  {
   "cell_type": "code",
   "execution_count": 210,
   "metadata": {},
   "outputs": [],
   "source": [
    "y_test = pd.read_csv('sampleSubmission.csv', encoding = 'UTF-8')"
   ]
  },
  {
   "cell_type": "code",
   "execution_count": 211,
   "metadata": {},
   "outputs": [],
   "source": [
    "df1['title'] = label_encoder.fit_transform(df1['title'])\n",
    "df1['author'] = label_encoder.fit_transform(df1['author'])\n",
    "df1['publisher'] = label_encoder.fit_transform(df1['publisher'])"
   ]
  },
  {
   "cell_type": "code",
   "execution_count": 212,
   "metadata": {},
   "outputs": [],
   "source": [
    "X2 = df1.filter(['title','author','number of pages','review_count','rating_count'])\n",
    "y2 = y_test['average_rating']"
   ]
  },
  {
   "cell_type": "code",
   "execution_count": 213,
   "metadata": {},
   "outputs": [
    {
     "name": "stdout",
     "output_type": "stream",
     "text": [
      "RMSE: 1.49\n",
      "R_squared: -0.09\n"
     ]
    }
   ],
   "source": [
    "y_pred2 = cross_val_predict(classifier_pipeline, X2, y2, cv=cv)\n",
    "print(\"RMSE: \" + str(round(sqrt(mean_squared_error(y2,y_pred2)),2)))\n",
    "print(\"R_squared: \" + str(round(r2_score(y2,y_pred2),2)))"
   ]
  },
  {
   "cell_type": "code",
   "execution_count": 216,
   "metadata": {},
   "outputs": [
    {
     "data": {
      "text/plain": [
       "id                 0.001836\n",
       "title              0.006158\n",
       "average rating     1.000000\n",
       "series                  NaN\n",
       "author             0.011220\n",
       "rating_count       0.007881\n",
       "review_count       0.000057\n",
       "number_of_pages    0.000708\n",
       "publisher          0.012891\n",
       "awards                  NaN\n",
       "Name: average rating, dtype: float64"
      ]
     },
     "execution_count": 216,
     "metadata": {},
     "output_type": "execute_result"
    }
   ],
   "source": [
    "abs(df1.corr()[\"average rating\"])"
   ]
  },
  {
   "cell_type": "code",
   "execution_count": 222,
   "metadata": {},
   "outputs": [
    {
     "name": "stdout",
     "output_type": "stream",
     "text": [
      "Num Features: 3\n",
      "Selected Features: [ True  True  True]\n",
      "Feature Ranking: [1 1 1]\n"
     ]
    }
   ],
   "source": [
    "# Recursive Feature Elimination - feature selection\n",
    "from sklearn import linear_model\n",
    "from sklearn.feature_selection import RFE\n",
    "model = linear_model.LinearRegression()\n",
    "rfe = RFE(model, n_features_to_select=3)\n",
    "fit = rfe.fit(X2, y2)\n",
    "print(\"Num Features: %s\" % (fit.n_features_))\n",
    "print(\"Selected Features: %s\" % (fit.support_))\n",
    "print(\"Feature Ranking: %s\" % (fit.ranking_))"
   ]
  },
  {
   "cell_type": "code",
   "execution_count": 223,
   "metadata": {},
   "outputs": [
    {
     "data": {
      "text/plain": [
       "Index(['author', 'rating_count', 'publisher'], dtype='object')"
      ]
     },
     "execution_count": 223,
     "metadata": {},
     "output_type": "execute_result"
    }
   ],
   "source": [
    "X2.columns"
   ]
  },
  {
   "cell_type": "code",
   "execution_count": 224,
   "metadata": {},
   "outputs": [
    {
     "name": "stdout",
     "output_type": "stream",
     "text": [
      "RMSE: 1.5\n",
      "R_squared: -0.1\n"
     ]
    }
   ],
   "source": [
    "cv = KFold(n_splits=10, random_state=0, shuffle=True)\n",
    "classifier_pipeline = make_pipeline(StandardScaler(), KNeighborsRegressor(n_neighbors=10))\n",
    "y_pred2 = cross_val_predict(classifier_pipeline, X2, y2, cv=cv)\n",
    "print(\"RMSE: \" + str(round(sqrt(mean_squared_error(y2,y_pred2)),2)))\n",
    "print(\"R_squared: \" + str(round(r2_score(y2,y_pred2),2)))"
   ]
  },
  {
   "cell_type": "code",
   "execution_count": 225,
   "metadata": {},
   "outputs": [
    {
     "name": "stdout",
     "output_type": "stream",
     "text": [
      "['id', 'title', 'author', 'rating_count', 'number_of_pages', 'publisher']\n",
      "RMSE: 1.5\n",
      "R_squared: -0.11\n",
      "['id', 'title', 'author', 'rating_count', 'number_of_pages', 'publisher']\n",
      "RMSE: 1.5\n",
      "R_squared: -0.11\n",
      "['title', 'author', 'rating_count', 'publisher']\n",
      "RMSE: 1.5\n",
      "R_squared: -0.11\n",
      "['title', 'author', 'rating_count', 'publisher']\n",
      "RMSE: 1.5\n",
      "R_squared: -0.11\n",
      "['title', 'author', 'rating_count', 'publisher']\n",
      "RMSE: 1.5\n",
      "R_squared: -0.11\n",
      "['title', 'author', 'rating_count', 'publisher']\n",
      "RMSE: 1.5\n",
      "R_squared: -0.11\n",
      "['author', 'rating_count', 'publisher']\n",
      "RMSE: 1.5\n",
      "R_squared: -0.1\n"
     ]
    }
   ],
   "source": [
    "thres = [0.0001,0.0002,0.003,0.004,0.005,0.006,0.007]\n",
    "for val in thres:\n",
    "    features = abs(df1.corr()[\"average rating\"][abs(df1.corr()[\"average rating\"])>val].drop('average rating')).index.tolist()\n",
    "    \n",
    "    X2 = df1.drop(columns='average rating')\n",
    "    X2=X2[features]\n",
    "    \n",
    "    print(features)\n",
    "\n",
    "    y_pred2 = cross_val_predict(classifier_pipeline, X2, y2, cv=cv)\n",
    "    print(\"RMSE: \" + str(round(sqrt(mean_squared_error(y2,y_pred2)),2)))\n",
    "    print(\"R_squared: \" + str(round(r2_score(y2,y_pred2),2)))"
   ]
  },
  {
   "cell_type": "code",
   "execution_count": 226,
   "metadata": {},
   "outputs": [
    {
     "data": {
      "text/plain": [
       "Index(['author', 'rating_count', 'publisher'], dtype='object')"
      ]
     },
     "execution_count": 226,
     "metadata": {},
     "output_type": "execute_result"
    }
   ],
   "source": [
    "X2.columns"
   ]
  },
  {
   "cell_type": "code",
   "execution_count": 227,
   "metadata": {},
   "outputs": [
    {
     "name": "stdout",
     "output_type": "stream",
     "text": [
      "RMSE: 1.5\n",
      "R_squared: -0.1\n"
     ]
    }
   ],
   "source": [
    "cv = KFold(n_splits=10, random_state=0, shuffle=True)\n",
    "classifier_pipeline = make_pipeline(StandardScaler(), KNeighborsRegressor(n_neighbors=10))\n",
    "y_pred2 = cross_val_predict(classifier_pipeline, X2, y2, cv=cv)\n",
    "print(\"RMSE: \" + str(round(sqrt(mean_squared_error(y2,y_pred2)),2)))\n",
    "print(\"R_squared: \" + str(round(r2_score(y2,y_pred2),2)))"
   ]
  },
  {
   "cell_type": "code",
   "execution_count": null,
   "metadata": {},
   "outputs": [],
   "source": []
  }
 ],
 "metadata": {
  "kernelspec": {
   "display_name": "Python 3",
   "language": "python",
   "name": "python3"
  },
  "language_info": {
   "codemirror_mode": {
    "name": "ipython",
    "version": 3
   },
   "file_extension": ".py",
   "mimetype": "text/x-python",
   "name": "python",
   "nbconvert_exporter": "python",
   "pygments_lexer": "ipython3",
   "version": "3.8.7"
  }
 },
 "nbformat": 4,
 "nbformat_minor": 4
}
